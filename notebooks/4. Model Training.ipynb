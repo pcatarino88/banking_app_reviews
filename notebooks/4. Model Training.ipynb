{
 "cells": [
  {
   "cell_type": "markdown",
   "id": "6b0acf0f-41f8-4588-9773-fdb511e9d48d",
   "metadata": {},
   "source": [
    "# Setup"
   ]
  },
  {
   "cell_type": "markdown",
   "id": "cdc25fb1-e172-4676-9388-b59c30bf787c",
   "metadata": {},
   "source": [
    "📝 *Import required libraries and files:*"
   ]
  },
  {
   "cell_type": "code",
   "execution_count": 1,
   "id": "c416f309-bfba-4ee1-923a-8e377cd297ca",
   "metadata": {},
   "outputs": [],
   "source": [
    "import pandas as pd\n",
    "import numpy as np\n",
    "from time import time\n",
    "\n",
    "# 4.1. cleaning and preprocess\n",
    "import re\n",
    "from sklearn.feature_extraction.text import CountVectorizer, ENGLISH_STOP_WORDS\n",
    "\n",
    "# 4.2. & 4.3. topic modeling\n",
    "from sklearn.decomposition import LatentDirichletAllocation\n",
    "from sklearn.model_selection import train_test_split\n",
    "\n",
    "from pathlib import Path\n",
    "import json, joblib"
   ]
  },
  {
   "cell_type": "code",
   "execution_count": 2,
   "id": "596a6f41-fef2-4ad7-9155-12e4a9073437",
   "metadata": {},
   "outputs": [
    {
     "name": "stdout",
     "output_type": "stream",
     "text": [
      "df shape: (703563, 20)\n"
     ]
    },
    {
     "data": {
      "text/html": [
       "<div>\n",
       "<style scoped>\n",
       "    .dataframe tbody tr th:only-of-type {\n",
       "        vertical-align: middle;\n",
       "    }\n",
       "\n",
       "    .dataframe tbody tr th {\n",
       "        vertical-align: top;\n",
       "    }\n",
       "\n",
       "    .dataframe thead th {\n",
       "        text-align: right;\n",
       "    }\n",
       "</style>\n",
       "<table border=\"1\" class=\"dataframe\">\n",
       "  <thead>\n",
       "    <tr style=\"text-align: right;\">\n",
       "      <th></th>\n",
       "      <th>review_id</th>\n",
       "      <th>app</th>\n",
       "      <th>score</th>\n",
       "      <th>review_text</th>\n",
       "      <th>review_text_clean</th>\n",
       "      <th>review_date</th>\n",
       "      <th>year</th>\n",
       "      <th>thumbs_up</th>\n",
       "      <th>replied</th>\n",
       "      <th>reply_text</th>\n",
       "      <th>reply_text_clean</th>\n",
       "      <th>reply_date</th>\n",
       "      <th>time_to_reply(h)</th>\n",
       "      <th>app_version_head</th>\n",
       "      <th>app_version_detail</th>\n",
       "      <th>review_sentiment</th>\n",
       "      <th>review_sentiment_label</th>\n",
       "      <th>Consistent</th>\n",
       "      <th>reply_sentiment</th>\n",
       "      <th>reply_sentiment_label</th>\n",
       "    </tr>\n",
       "  </thead>\n",
       "  <tbody>\n",
       "    <tr>\n",
       "      <th>0</th>\n",
       "      <td>1</td>\n",
       "      <td>Santander</td>\n",
       "      <td>5</td>\n",
       "      <td>very easy to use app, very happy with it</td>\n",
       "      <td>very easy to use app, very happy with it</td>\n",
       "      <td>2025-09-04 14:21:00</td>\n",
       "      <td>2025</td>\n",
       "      <td>0</td>\n",
       "      <td>1</td>\n",
       "      <td>Hi! Thanks for the 5* review, we're so glad to...</td>\n",
       "      <td>hi! thanks for the 5* review, we're so glad to...</td>\n",
       "      <td>2025-09-04 14:40:12</td>\n",
       "      <td>0.32</td>\n",
       "      <td>5</td>\n",
       "      <td>24.0</td>\n",
       "      <td>0.8012</td>\n",
       "      <td>positive</td>\n",
       "      <td>1</td>\n",
       "      <td>0.8767</td>\n",
       "      <td>positive</td>\n",
       "    </tr>\n",
       "    <tr>\n",
       "      <th>1</th>\n",
       "      <td>2</td>\n",
       "      <td>Santander</td>\n",
       "      <td>3</td>\n",
       "      <td>New 2024 app is slow to open. Too much whitesp...</td>\n",
       "      <td>new 2024 app is slow to open. too much whitesp...</td>\n",
       "      <td>2025-09-04 13:36:26</td>\n",
       "      <td>2025</td>\n",
       "      <td>3</td>\n",
       "      <td>1</td>\n",
       "      <td>Hey there! All feedback is greatly appreciated...</td>\n",
       "      <td>hey there! all feedback is greatly appreciated...</td>\n",
       "      <td>2024-04-29 14:16:29</td>\n",
       "      <td>-11831.33</td>\n",
       "      <td>5</td>\n",
       "      <td>24.0</td>\n",
       "      <td>-0.9020</td>\n",
       "      <td>negative</td>\n",
       "      <td>1</td>\n",
       "      <td>0.8930</td>\n",
       "      <td>positive</td>\n",
       "    </tr>\n",
       "  </tbody>\n",
       "</table>\n",
       "</div>"
      ],
      "text/plain": [
       "   review_id        app  score  \\\n",
       "0          1  Santander      5   \n",
       "1          2  Santander      3   \n",
       "\n",
       "                                         review_text  \\\n",
       "0           very easy to use app, very happy with it   \n",
       "1  New 2024 app is slow to open. Too much whitesp...   \n",
       "\n",
       "                                   review_text_clean         review_date  \\\n",
       "0           very easy to use app, very happy with it 2025-09-04 14:21:00   \n",
       "1  new 2024 app is slow to open. too much whitesp... 2025-09-04 13:36:26   \n",
       "\n",
       "   year  thumbs_up  replied  \\\n",
       "0  2025          0        1   \n",
       "1  2025          3        1   \n",
       "\n",
       "                                          reply_text  \\\n",
       "0  Hi! Thanks for the 5* review, we're so glad to...   \n",
       "1  Hey there! All feedback is greatly appreciated...   \n",
       "\n",
       "                                    reply_text_clean          reply_date  \\\n",
       "0  hi! thanks for the 5* review, we're so glad to... 2025-09-04 14:40:12   \n",
       "1  hey there! all feedback is greatly appreciated... 2024-04-29 14:16:29   \n",
       "\n",
       "   time_to_reply(h) app_version_head app_version_detail  review_sentiment  \\\n",
       "0              0.32                5               24.0            0.8012   \n",
       "1         -11831.33                5               24.0           -0.9020   \n",
       "\n",
       "  review_sentiment_label  Consistent  reply_sentiment reply_sentiment_label  \n",
       "0               positive           1           0.8767              positive  \n",
       "1               negative           1           0.8930              positive  "
      ]
     },
     "execution_count": 2,
     "metadata": {},
     "output_type": "execute_result"
    }
   ],
   "source": [
    "path = \"../assets/df_sentiment.parquet\"\n",
    "df_sentiment = pd.read_parquet(path)\n",
    "print(f\"df shape: {df_sentiment.shape}\")\n",
    "df_sentiment.head(2)"
   ]
  },
  {
   "cell_type": "markdown",
   "id": "54c12b16-1965-4fe7-86b1-202143a57e58",
   "metadata": {},
   "source": [
    "# 4 - Model Training"
   ]
  },
  {
   "cell_type": "markdown",
   "id": "c9573688-1e81-4f9c-8c6c-8722f8c0c84e",
   "metadata": {},
   "source": [
    "## 4.1. - Training General Model"
   ]
  },
  {
   "cell_type": "markdown",
   "id": "fdf9eba0-e944-4129-802c-8f04ba9d139e",
   "metadata": {},
   "source": [
    "The goal of this notebook is to identify frequent **pain points** mentioned by comments with negative reviews, as well as the **strenghts** addressed in positive reviews. We will focus on **user reviews** (i.e., discarting bank's replies) and we will **discart inconsistent cases** - e.g., reviews with negative scores but positive sentiment, or vice versa.\n",
    "\n",
    "We will work with a copy of `df_sentiment` and encapsulate all the transformations in the end to facilitate reproducibility."
   ]
  },
  {
   "cell_type": "code",
   "execution_count": 3,
   "id": "4224e177-73d2-4766-9cb3-59a0f25a7f14",
   "metadata": {},
   "outputs": [],
   "source": [
    "df = df_sentiment.copy()"
   ]
  },
  {
   "cell_type": "markdown",
   "id": "87b8dc62-1554-451e-8f52-dd2dbff320a7",
   "metadata": {},
   "source": [
    "### 4.1.1. - Text cleaning and preprocessing"
   ]
  },
  {
   "cell_type": "markdown",
   "id": "2965fa5e-011e-42c4-89fa-f62d1fe67404",
   "metadata": {},
   "source": [
    "Text cleaning and preprocessing is an essential step to get meaningful topics. \n",
    "\n",
    "First of all, all **inconsistent cases will be removed** - i.e., reviews with inconsistent score and sentiment."
   ]
  },
  {
   "cell_type": "code",
   "execution_count": 4,
   "id": "80a4640c-4886-423f-8984-9403cd13fe7d",
   "metadata": {},
   "outputs": [
    {
     "name": "stdout",
     "output_type": "stream",
     "text": [
      "Shape before removal of inconsistent cases: (813103, 20)\n",
      "Shape after of inconsistent cases: (774649, 20)\n"
     ]
    }
   ],
   "source": [
    "print(f\"Shape before removal of inconsistent cases: {df.shape}\")\n",
    "\n",
    "# Remove contradictory rows\n",
    "df_model = df[df['Consistent']==1].copy()\n",
    "\n",
    "print(f\"Shape after of inconsistent cases: {df_model.shape}\")"
   ]
  },
  {
   "cell_type": "markdown",
   "id": "c586b9f0-2567-485a-b422-5d8eb985a685",
   "metadata": {},
   "source": [
    "Below we **perform text cleaning and preprocess**. A copy of original texts is kept in 'text' to allow later interpretation."
   ]
  },
  {
   "cell_type": "code",
   "execution_count": 5,
   "id": "5019a91c-d33c-4af7-b3c5-55c82c6206a5",
   "metadata": {},
   "outputs": [
    {
     "name": "stdout",
     "output_type": "stream",
     "text": [
      "Shape after text_cleaner: (774649, 21)\n"
     ]
    }
   ],
   "source": [
    "# Additional text cleaning / prior cleaning was already done in the cleaning function in notebook 2\n",
    "def text_cleaner(x):\n",
    "    if not isinstance(x, str):\n",
    "        return pd.NA\n",
    "    t = x\n",
    "    t = re.sub(r'@\\w+', ' ', t)                 # remove @mentions\n",
    "    t = re.sub(r'\\d+', ' <num> ', t)            # numbers -> <num>\n",
    "    t = re.sub(r'[^a-z\\s<>]+', ' ', t)          # keep letters, spaces, and <> so <num> survives\n",
    "    t = re.sub(r'\\s+', ' ', t).strip()          # normalize whitespace\n",
    "    return t if t else pd.NA\n",
    "\n",
    "# Apply cleaning\n",
    "df_model['review_extra_clean'] = df_model['review_text_clean'].map(text_cleaner)\n",
    "\n",
    "print(f\"Shape after text_cleaner: {df_model.shape}\")"
   ]
  },
  {
   "cell_type": "code",
   "execution_count": 6,
   "id": "fd307373-d0a0-4fc2-82f9-c7528af32efe",
   "metadata": {},
   "outputs": [
    {
     "name": "stdout",
     "output_type": "stream",
     "text": [
      "Shape after removing ultra-short reviews: (674085, 21)\n"
     ]
    }
   ],
   "source": [
    "# Drop ultra-short reviews (fewer than 2 tokens)\n",
    "df_model = df_model[df_model['review_extra_clean'].str.split().str.len() >= 2]\n",
    "\n",
    "print(f\"Shape after removing ultra-short reviews: {df_model.shape}\")"
   ]
  },
  {
   "cell_type": "code",
   "execution_count": 7,
   "id": "110cb174-1e9b-4520-890f-cf28b8a63cbf",
   "metadata": {},
   "outputs": [],
   "source": [
    "# Remove stop words --> words that can occur frequently but do not provide useful insight in the context of this analysis\n",
    "\n",
    "# Domain stopwords\n",
    "domain_sw = {\n",
    "    'app','apps','bank','account','application', 'mobile', 'banks', 'santander', 'uk', \n",
    "    'lloyds', 'hsbc', 'revolut', 'barclays', 'monzo', 'banks', 'thanks', 'ive', 'num',\n",
    "}\n",
    "\n",
    "# Merge English + domain stopwords into a list\n",
    "stop_words = list(ENGLISH_STOP_WORDS.union(domain_sw))"
   ]
  },
  {
   "cell_type": "markdown",
   "id": "a930dbdd-b416-4ac4-9f2c-3345d5da28ae",
   "metadata": {},
   "source": [
    "### 4.1.2. - LDA trained with ALL reviews"
   ]
  },
  {
   "cell_type": "markdown",
   "id": "94acfb5c-58fe-41a8-a402-4c4bb125ddf7",
   "metadata": {},
   "source": [
    "We will use **LDA (Latent Dirichlet Allocation)** for topic modeling. LDA is a **generative probabilistic model** prepared to discover hidden topics in a colleciton of documents - i.e., our reviews in this case. In short, LDA defines topics according to word distribution, and then represents each document (i.e., review) as a probability distribution over those topics."
   ]
  },
  {
   "cell_type": "markdown",
   "id": "3665e8ce-f02f-465b-b21a-87ba0da68fa6",
   "metadata": {},
   "source": [
    "The following modeling **3-staged approach** will be used for LDA training and finetune:\n",
    "1. Run LDA with 10 topics and evaluate top words for each of the 10 topics\n",
    "2. Finetune 'stop words', removing top words that do not generate additional value, and re-run LDA\n",
    "3. Test different `n` topics and Select best (i.e., more interpretable) number of topics and assign dominant topic for each review"
   ]
  },
  {
   "cell_type": "markdown",
   "id": "29ca5f12-1d89-4eac-a24a-22b36625fd6e",
   "metadata": {},
   "source": [
    "**I. INITIAL RUN OF LDA WITH 10 TOPICS**"
   ]
  },
  {
   "cell_type": "markdown",
   "id": "d23c2e3d-34f1-430b-ad29-d9565f51e12b",
   "metadata": {},
   "source": [
    "First of all, we'll **define functions** to build the vectorizer, run the LDA and print the results, to ensure future reproducibility.\n",
    "\n",
    "Note: For **vectorization** (i.e. transform text into a document-term matrix - DTM) we will use **Count Vectorizer Bag-of-Words** which is best **suited for LDA** (Latent Dirichlet Allocation) we inted to use in the next stage."
   ]
  },
  {
   "cell_type": "code",
   "execution_count": 8,
   "id": "175f2066-78f8-4e7d-bfca-ab998906bf80",
   "metadata": {},
   "outputs": [],
   "source": [
    "# Build vectorizer in case you've updated stopwords later\n",
    "def build_vectorizer(stop_words, ngram_range=(1,2), min_df=20, max_df=0.5):\n",
    "    return CountVectorizer(\n",
    "        preprocessor=None,\n",
    "        token_pattern=r'(?u)\\b[a-z<][a-z<>-]{2,}\\b',\n",
    "        stop_words=stop_words,\n",
    "        ngram_range=ngram_range,\n",
    "        min_df=min_df,\n",
    "        max_df=max_df\n",
    "    )\n",
    "\n",
    "# Run LDA\n",
    "def fit_lda(X, n_topics=10, max_iter=10, random_state=42, n_jobs=-1):\n",
    "    lda = LatentDirichletAllocation(\n",
    "        n_components=n_topics,\n",
    "        max_iter=max_iter,\n",
    "        learning_method='batch',\n",
    "        random_state=random_state,\n",
    "        n_jobs=n_jobs\n",
    "    )\n",
    "    t0 = time()\n",
    "    lda.fit(X)\n",
    "    print(f\"LDA fit done: {n_topics} topics in {time() - t0:.1f}s\")\n",
    "    return lda\n",
    "\n",
    "# Print Top Words\n",
    "def print_top_words(model, feature_names, n_top=12, title=None):\n",
    "    if title:\n",
    "        print(title)\n",
    "    for t, comp in enumerate(model.components_):\n",
    "        top_idx = comp.argsort()[-n_top:][::-1]\n",
    "        print(f\"Topic {t:02d}: \" + \" | \".join(feature_names[top_idx]))\n",
    "    print()"
   ]
  },
  {
   "cell_type": "markdown",
   "id": "a32941c7-48c8-4920-95ff-77c73c79e2f6",
   "metadata": {},
   "source": [
    "Now we can run the model testing first for 10 topics."
   ]
  },
  {
   "cell_type": "code",
   "execution_count": 9,
   "id": "3fbe77bb-2758-482d-9296-87aacbb67cb6",
   "metadata": {},
   "outputs": [],
   "source": [
    "# Build X for baseline run (10 topics)\n",
    "vectorizer = build_vectorizer(stop_words)      \n",
    "X = vectorizer.fit_transform(df_model['review_extra_clean'])\n",
    "vocab = vectorizer.get_feature_names_out() # used later on to print top words"
   ]
  },
  {
   "cell_type": "code",
   "execution_count": 10,
   "id": "cd57c379-d7cb-47b7-82af-c46320bd685f",
   "metadata": {},
   "outputs": [
    {
     "name": "stdout",
     "output_type": "stream",
     "text": [
      "LDA fit done: 10 topics in 1287.4s\n"
     ]
    }
   ],
   "source": [
    "# Run LDA\n",
    "lda_10 = fit_lda(X, n_topics=10)"
   ]
  },
  {
   "cell_type": "markdown",
   "id": "050829d4-e62d-4c29-af69-6ce5d9452b21",
   "metadata": {},
   "source": [
    "Now let's see what are the top words for each topic:"
   ]
  },
  {
   "cell_type": "code",
   "execution_count": 11,
   "id": "0127c8f0-fe0d-4cf5-ada1-8bd7337b6203",
   "metadata": {},
   "outputs": [
    {
     "name": "stdout",
     "output_type": "stream",
     "text": [
      "Topic 00: easy | use | easy use | quick | simple | quick easy | great | secure | convenient | safe | great easy | fast\n",
      "Topic 01: banking | best | transfer | online | money | accounts | transfer money | online banking | great | check | day | manage\n",
      "Topic 02: phone | update | work | log | doesnt | love | working | just | doesnt work | use | screen | new\n",
      "Topic 03: just | dont | open | time | update | new | support | wont | customer | help | card | days\n",
      "Topic 04: great | money | far | card | amazing | exchange | nice | recommend | abroad | better | rates | using\n",
      "Topic 05: works | time | problems | love | great | just | using | lot | use | handy | banking | easier\n",
      "Topic 06: easy | payments | makes | card | easier | life | make | navigate | accounts | easy navigate | transfers | track\n",
      "Topic 07: good | like | really | fast | dont | pay | reliable | really good | efficient | service | good service | pretty\n",
      "Topic 08: useful | user | friendly | helpful | brilliant | user friendly | quick | really | straight | great | forward | use\n",
      "Topic 09: need | service | does | excellent | great | does need | awesome | excellent service | customer | fantastic | job | great service\n",
      "\n"
     ]
    }
   ],
   "source": [
    "print_top_words(lda_10, vocab, n_top=12)"
   ]
  },
  {
   "cell_type": "markdown",
   "id": "dda3fe33-26f6-4593-a90b-2497fcc5ebbb",
   "metadata": {},
   "source": [
    "As we can see from above there are still too many words that do not generate any additional value / insight that need to be removed (i.e., added to the stop words) in order not to polute the topic modeling and to extract meaningfull insights."
   ]
  },
  {
   "cell_type": "markdown",
   "id": "4a40ce81-9978-4133-8c1f-bdccc1ee7a93",
   "metadata": {},
   "source": [
    "**II. Finetune stopwords and re-run LDA**"
   ]
  },
  {
   "cell_type": "markdown",
   "id": "bb207aab-6e44-4eae-90e5-a136a389de2d",
   "metadata": {},
   "source": [
    "Adding new words that are poluting topics to `stop_words` --> 📌 this process was repeated for several times in this project."
   ]
  },
  {
   "cell_type": "code",
   "execution_count": 12,
   "id": "f12d27f5-e5e1-48a6-a7d4-f4fa126dd5a2",
   "metadata": {},
   "outputs": [],
   "source": [
    "domain_extra = {\n",
    "    'able', 'absolutely', 'accounts', 'add', 'ago', 'alot', 'allows', 'amazing', 'anymore', 'appropriate','awesome', 'bad', 'banking', \n",
    "    'best', 'better', 'bit', 'branch', 'brilliant', 'business', 'change', 'cheque', 'cheques','clear', 'close', 'complicated', \n",
    "    'convenient', 'constantly', 'daily', 'date', 'day', 'days', 'definitely', 'did', 'didnt', 'different', 'difficult', 'does', \n",
    "    'doesnt', 'doing', 'dont', 'ease', 'easier', 'easily', 'easy', 'effective', 'efficient', 'especially', 'exactly', 'excellent', \n",
    "    'experience', 'extremely', 'fab', 'fantastic', 'far', 'fast', 'feels','finances', 'fine', 'fix', 'follow', 'forward', 'getting', \n",
    "    'gives', 'going', 'good', 'google', 'got', 'great', 'guys', 'handy', 'happy', 'havent', 'having', 'hassle', 'hello', 'helpful', \n",
    "    'helps', 'highly', 'hope', 'hoping', 'improved', 'isnt', 'issues', 'job', 'just','keeping', 'keeps', 'know', 'latest', 'let', \n",
    "    'lets', 'life', 'like', 'little', 'live', 'long', 'longer', 'lot', 'lots', 'love', 'loving','make', 'makes', 'making', 'month', \n",
    "    'months', 'need', 'needed', 'needs', 'neo', 'new', 'nice', 'number', 'old', 'online','open', 'overall', 'payees', 'pending', \n",
    "    'people', 'perfect', 'perfectly', 'place', 'pleased', 'poor', 'pretty', 'quick', 'quickly', 'quite', 'really', 'reason', \n",
    "    'recommend', 'recommended', 'reliable', 'rooted', 'round', 'rubbish', 'safe', 'satisfied', 'saves', 'say', 'says', 'set', \n",
    "    'simple', 'simpler', 'simply', 'slow', 'smooth', 'sort', 'star', 'stars', 'stopped', 'straighforward', 'straight', \n",
    "    'straightforward', 'stuff', 'super', 'superb', 'sure', 'takes', 'team', 'terrible', 'thank', 'thats', 'think', 'thing', \n",
    "    'things', 'time', 'times', 'tin', 'tried', 'try', 'trying', 'unable', 'understand', 'use', 'used', 'useful', 'useless', \n",
    "    'using', 'usually', 'want', 'way', 'website', 'went', 'whats', 'wish', 'wonderful', 'wont', 'work', 'worked', 'working', 'works', \n",
    "    'worst', 'wrong', 'years'\n",
    "}\n",
    "\n",
    "stop_words = list(set(stop_words).union(domain_extra))"
   ]
  },
  {
   "cell_type": "markdown",
   "id": "461f516a-6f8e-4747-b451-fac3ad1b5837",
   "metadata": {},
   "source": [
    "Remove reviews that are exclusively stop words."
   ]
  },
  {
   "cell_type": "code",
   "execution_count": 13,
   "id": "e2b2aac7-678a-4cd4-98df-0aba2e964dc5",
   "metadata": {},
   "outputs": [
    {
     "name": "stdout",
     "output_type": "stream",
     "text": [
      "Rows dropped after SW filter: 244629\n",
      "New df_model shape: (429456, 21)\n"
     ]
    }
   ],
   "source": [
    "tmp_vec = CountVectorizer(\n",
    "    preprocessor=None,\n",
    "    token_pattern=r'(?u)\\b[a-z<][a-z<>-]{2,}\\b',\n",
    "    stop_words=stop_words,\n",
    "    ngram_range=(1,1)\n",
    ")\n",
    "analyze = tmp_vec.build_analyzer()\n",
    "\n",
    "min_tokens_after_sw = 1\n",
    "mask = df_model['review_extra_clean'].astype(str).map(lambda s: len(analyze(s)) >= min_tokens_after_sw)\n",
    "print(\"Rows dropped after SW filter:\", int((~mask).sum()))\n",
    "df_model = df_model[mask].copy()\n",
    "print(f\"New df_model shape: {df_model.shape}\")"
   ]
  },
  {
   "cell_type": "code",
   "execution_count": 14,
   "id": "50371009-f1bf-4c6e-bfe5-31f6ffcd87da",
   "metadata": {},
   "outputs": [],
   "source": [
    "vectorizer = build_vectorizer(stop_words)\n",
    "X = vectorizer.fit_transform(df_model['review_extra_clean'])\n",
    "vocab = vectorizer.get_feature_names_out()"
   ]
  },
  {
   "cell_type": "markdown",
   "id": "7e1e24c5-5c24-4f71-b2fb-4997ffe3327e",
   "metadata": {},
   "source": [
    "**III. Test different `n_topics` and evaluate results**"
   ]
  },
  {
   "cell_type": "markdown",
   "id": "ad22ed5f-747a-4b30-b274-2dd0e192edf4",
   "metadata": {},
   "source": [
    "In this stage, we will train several `n_topics` on a hold-out split"
   ]
  },
  {
   "cell_type": "markdown",
   "id": "c35e3c8e-cd09-431d-9a23-b64080e30bde",
   "metadata": {},
   "source": [
    "First, split once for fair model comparison."
   ]
  },
  {
   "cell_type": "code",
   "execution_count": 15,
   "id": "09a86be8-dc52-46fd-b50e-46c74ff6f6b1",
   "metadata": {},
   "outputs": [],
   "source": [
    "X_train, X_valid = train_test_split(X, test_size=0.20, random_state=42)"
   ]
  },
  {
   "cell_type": "markdown",
   "id": "aad6fa1b-b65f-494f-8030-49e11242f374",
   "metadata": {},
   "source": [
    "Train a list of possible number of topics"
   ]
  },
  {
   "cell_type": "code",
   "execution_count": 16,
   "id": "f56417a8-1a25-43c7-bfd5-781714ca26bf",
   "metadata": {},
   "outputs": [
    {
     "name": "stdout",
     "output_type": "stream",
     "text": [
      "LDA fit done: 5 topics in 505.9s\n",
      "LDA fit done: 6 topics in 532.6s\n",
      "LDA fit done: 7 topics in 477.2s\n",
      "LDA fit done: 8 topics in 470.7s\n",
      "LDA fit done: 9 topics in 468.1s\n"
     ]
    },
    {
     "data": {
      "text/html": [
       "<div>\n",
       "<style scoped>\n",
       "    .dataframe tbody tr th:only-of-type {\n",
       "        vertical-align: middle;\n",
       "    }\n",
       "\n",
       "    .dataframe tbody tr th {\n",
       "        vertical-align: top;\n",
       "    }\n",
       "\n",
       "    .dataframe thead th {\n",
       "        text-align: right;\n",
       "    }\n",
       "</style>\n",
       "<table border=\"1\" class=\"dataframe\">\n",
       "  <thead>\n",
       "    <tr style=\"text-align: right;\">\n",
       "      <th></th>\n",
       "      <th>k</th>\n",
       "      <th>perplexity_train</th>\n",
       "      <th>perplexity_valid</th>\n",
       "      <th>elbo_train</th>\n",
       "      <th>elbo_valid</th>\n",
       "    </tr>\n",
       "  </thead>\n",
       "  <tbody>\n",
       "    <tr>\n",
       "      <th>0</th>\n",
       "      <td>5</td>\n",
       "      <td>2130.398874</td>\n",
       "      <td>2529.970917</td>\n",
       "      <td>-1.361503e+07</td>\n",
       "      <td>-3.453223e+06</td>\n",
       "    </tr>\n",
       "    <tr>\n",
       "      <th>1</th>\n",
       "      <td>6</td>\n",
       "      <td>2137.488375</td>\n",
       "      <td>2585.378165</td>\n",
       "      <td>-1.362094e+07</td>\n",
       "      <td>-3.462770e+06</td>\n",
       "    </tr>\n",
       "    <tr>\n",
       "      <th>2</th>\n",
       "      <td>7</td>\n",
       "      <td>2102.594600</td>\n",
       "      <td>2580.705062</td>\n",
       "      <td>-1.359170e+07</td>\n",
       "      <td>-3.461973e+06</td>\n",
       "    </tr>\n",
       "    <tr>\n",
       "      <th>3</th>\n",
       "      <td>8</td>\n",
       "      <td>2103.291954</td>\n",
       "      <td>2613.437580</td>\n",
       "      <td>-1.359229e+07</td>\n",
       "      <td>-3.467527e+06</td>\n",
       "    </tr>\n",
       "    <tr>\n",
       "      <th>4</th>\n",
       "      <td>9</td>\n",
       "      <td>2142.107303</td>\n",
       "      <td>2694.966802</td>\n",
       "      <td>-1.362477e+07</td>\n",
       "      <td>-3.481065e+06</td>\n",
       "    </tr>\n",
       "  </tbody>\n",
       "</table>\n",
       "</div>"
      ],
      "text/plain": [
       "   k  perplexity_train  perplexity_valid    elbo_train    elbo_valid\n",
       "0  5       2130.398874       2529.970917 -1.361503e+07 -3.453223e+06\n",
       "1  6       2137.488375       2585.378165 -1.362094e+07 -3.462770e+06\n",
       "2  7       2102.594600       2580.705062 -1.359170e+07 -3.461973e+06\n",
       "3  8       2103.291954       2613.437580 -1.359229e+07 -3.467527e+06\n",
       "4  9       2142.107303       2694.966802 -1.362477e+07 -3.481065e+06"
      ]
     },
     "metadata": {},
     "output_type": "display_data"
    }
   ],
   "source": [
    "candidate_topics = [5, 6, 7, 8, 9]  \n",
    "lda_models = {}\n",
    "rows = []\n",
    "\n",
    "for k in candidate_topics:\n",
    "    model = fit_lda(X_train, k)\n",
    "    lda_models[k] = model\n",
    "    rows.append({\n",
    "        \"k\": k,\n",
    "        \"perplexity_train\": model.perplexity(X_train),  # lower = better\n",
    "        \"perplexity_valid\": model.perplexity(X_valid),  # lower = better\n",
    "        \"elbo_train\": model.score(X_train),             # higher = better\n",
    "        \"elbo_valid\": model.score(X_valid)              # higher = better\n",
    "    })\n",
    "\n",
    "metrics_df = pd.DataFrame(rows).sort_values(\"k\").reset_index(drop=True)\n",
    "display(metrics_df)"
   ]
  },
  {
   "cell_type": "markdown",
   "id": "1ff9efce-f2ec-4970-a71b-97160818344b",
   "metadata": {},
   "source": [
    "Visual evaluation of validation perplexity"
   ]
  },
  {
   "cell_type": "code",
   "execution_count": 17,
   "id": "ffb1039c-8707-42f4-8c15-d47d86657733",
   "metadata": {},
   "outputs": [
    {
     "data": {
      "image/png": "[encoded data removed]",
      "text/plain": [
       "<Figure size 640x480 with 1 Axes>"
      ]
     },
     "metadata": {},
     "output_type": "display_data"
    }
   ],
   "source": [
    "plt.plot(metrics_df[\"k\"], metrics_df[\"perplexity_valid\"], marker=\"o\")\n",
    "plt.xlabel(\"k (topics)\")\n",
    "plt.ylabel(\"Perplexity (validation)\")\n",
    "plt.title(\"LDA: validation perplexity vs k\")\n",
    "plt.show()"
   ]
  },
  {
   "cell_type": "markdown",
   "id": "6bfcc2d8-f0ab-4afd-89c6-f83be9532694",
   "metadata": {},
   "source": [
    "Check top words to manually evaluate best interpretability"
   ]
  },
  {
   "cell_type": "code",
   "execution_count": 18,
   "id": "bada2f26-fd84-4b8c-a2d2-ac2dbe9d62de",
   "metadata": {},
   "outputs": [
    {
     "name": "stdout",
     "output_type": "stream",
     "text": [
      "\n",
      "=== k=5 ===\n",
      "Topic 00: service | card | features | customer | exchange | customer service | rates | abroad | currency | free | fees | travel\n",
      "Topic 01: update | user | friendly | user friendly | pay | log | phone | security | android | crashes | payment | contactless\n",
      "Topic 02: problems | navigate | transactions | balance | version | feature | transaction | log | fingerprint | login | functionality | previous\n",
      "Topic 03: money | transfer | secure | payments | check | manage | transfer money | pay | track | send | bills | transfers\n",
      "Topic 04: phone | access | support | help | chat | issue | problem | details | screen | code | contact | security\n",
      "\n",
      "\n",
      "=== k=6 ===\n",
      "Topic 00: service | card | exchange | customer | customer service | features | rates | abroad | currency | free | fees | travel\n",
      "Topic 01: update | user | friendly | user friendly | pay | log | phone | android | crashes | updated | contactless | crashing\n",
      "Topic 02: problems | navigate | payment | transfers | login | fingerprint | balance | log | transaction | fault | feature | functionality\n",
      "Topic 03: money | transfer | secure | check | manage | transfer money | pay | payments | track | send | bills | balance\n",
      "Topic 04: phone | support | access | help | chat | details | problem | code | screen | issue | customer | contact\n",
      "Topic 05: transactions | problem | payments | intuitive | features | direct | version | available | previous | view | updates | control\n",
      "\n",
      "\n",
      "=== k=7 ===\n",
      "Topic 00: service | customer | exchange | card | customer service | rates | abroad | currency | free | fees | travel | features\n",
      "Topic 01: update | log | phone | pay | android | crashes | updated | contactless | error | crashing | security | load\n",
      "Topic 02: problems | navigate | transfers | fingerprint | login | balance | version | functionality | transaction | paying | feature | design\n",
      "Topic 03: money | transfer | secure | check | pay | manage | transfer money | payments | track | send | bills | balance\n",
      "Topic 04: phone | support | help | chat | details | access | code | problem | contact | screen | issue | password\n",
      "Topic 05: transactions | payments | problem | features | intuitive | direct | control | view | available | balance | updates | finger\n",
      "Topic 06: card | user | friendly | user friendly | payment | credit | cards | access | interface | credit card | options | fault\n",
      "\n",
      "\n",
      "=== k=8 ===\n",
      "Topic 00: service | exchange | customer | customer service | card | rates | abroad | currency | free | fees | travel | rate\n",
      "Topic 01: update | log | phone | pay | android | crashes | updated | contactless | error | crashing | version | samsung\n",
      "Topic 02: problems | navigate | transfers | balance | functionality | transaction | feature | issue | payments | design | international | functional\n",
      "Topic 03: money | transfer | secure | check | manage | pay | transfer money | send | payments | track | bills | save\n",
      "Topic 04: phone | support | chat | help | customer | problem | contact | screen | details | issue | lost | access\n",
      "Topic 05: transactions | payments | problem | intuitive | features | direct | control | version | view | previous | updates | finger\n",
      "Topic 06: card | user | friendly | user friendly | payment | credit | cards | credit card | options | fault | notifications | cool\n",
      "Topic 07: security | access | services | fingerprint | paying | secure | help | login | interface | feel | internet | code\n",
      "\n",
      "\n",
      "=== k=9 ===\n",
      "Topic 00: service | exchange | customer | card | customer service | rates | abroad | currency | free | fees | travel | rate\n",
      "Topic 01: update | log | phone | pay | android | crashes | updated | contactless | error | crashing | version | annoying\n",
      "Topic 02: problems | navigate | transfers | functionality | balance | design | feature | world | functional | issue | impressed | payments\n",
      "Topic 03: money | transfer | secure | check | manage | transfer money | pay | payments | send | track | bills | balance\n",
      "Topic 04: phone | support | chat | help | screen | customer | contact | problem | issue | password | details | access\n",
      "Topic 05: transactions | problem | features | payments | intuitive | control | version | previous | balance | updates | layout | view\n",
      "Topic 06: card | user | friendly | user friendly | payment | interface | cards | options | fault | notifications | cool | virtual\n",
      "Topic 07: security | access | services | fingerprint | help | paying | secure | login | internet | available | statements | code\n",
      "Topic 08: transaction | credit | direct | card | lost | option | credit card | payments | standing | debits | finger | direct debits\n",
      "\n"
     ]
    }
   ],
   "source": [
    "for k in candidate_topics:\n",
    "    print_top_words(lda_models[k], vocab, n_top=12, title=f\"\\n=== k={k} ===\")"
   ]
  },
  {
   "cell_type": "markdown",
   "id": "8c3e8475-2701-4da0-9380-02d7f3b3a3bf",
   "metadata": {},
   "source": [
    "**✅ RUN SELECTED MODEL AND SAVE RESULTS**"
   ]
  },
  {
   "cell_type": "markdown",
   "id": "66993812-3123-4ea8-8a32-476990a0aa30",
   "metadata": {},
   "source": [
    "When we analyse the key words for each `k` for the number of topics it is clear that lower number of topics generate more coherent topics than when we use higher `k`. Given the validation perplexity scores and their interpretation, we selct **7 topics as the optimal choice** for the best LDA."
   ]
  },
  {
   "cell_type": "code",
   "execution_count": 19,
   "id": "8386a474-73a0-4a4e-90eb-581537491721",
   "metadata": {},
   "outputs": [
    {
     "name": "stdout",
     "output_type": "stream",
     "text": [
      "LDA fit done: 7 topics in 621.1s\n"
     ]
    }
   ],
   "source": [
    "chosen_k = 7\n",
    "\n",
    "# Train model with selected parameters\n",
    "lda_best = fit_lda(X, n_topics=chosen_k)"
   ]
  },
  {
   "cell_type": "code",
   "execution_count": 20,
   "id": "71444027-b023-4f02-9f4f-edb832419248",
   "metadata": {},
   "outputs": [
    {
     "name": "stdout",
     "output_type": "stream",
     "text": [
      "Topic 00: service | customer | exchange | card | customer service | rates | abroad | currency | free | features | fees | travel\n",
      "Topic 01: update | log | phone | pay | android | crashes | updated | contactless | error | load | crashing | security\n",
      "Topic 02: problems | navigate | transfers | fingerprint | balance | login | version | functionality | feature | issue | design | payments\n",
      "Topic 03: money | transfer | secure | check | pay | manage | transfer money | send | bills | track | payments | balance\n",
      "Topic 04: phone | support | help | chat | details | access | contact | code | problem | screen | password | issue\n",
      "Topic 05: transactions | payments | problem | intuitive | features | control | direct | view | finger | updates | standing | layout\n",
      "Topic 06: card | user | friendly | user friendly | payment | credit | cards | interface | access | credit card | transaction | options\n",
      "\n"
     ]
    }
   ],
   "source": [
    "# print topics for k=7\n",
    "print_top_words(lda_best, vocab, n_top=12)"
   ]
  },
  {
   "cell_type": "code",
   "execution_count": 21,
   "id": "be51bf5f-1c44-422f-acdd-82a4271a3af7",
   "metadata": {},
   "outputs": [
    {
     "name": "stdout",
     "output_type": "stream",
     "text": [
      "✅ Files saved\n"
     ]
    }
   ],
   "source": [
    "# Save\n",
    "joblib.dump(lda_best, \"../assets/lda_final_ALL.pkl\")\n",
    "joblib.dump(vectorizer, \"../assets/vectorizer_final_ALL.pkl\")\n",
    "print(\"✅ Files saved\")"
   ]
  },
  {
   "cell_type": "markdown",
   "id": "616656d9-af4f-4ca3-a7d2-bb6ea226cd5f",
   "metadata": {},
   "source": [
    "## 4.2. - Training Segmented Model"
   ]
  },
  {
   "cell_type": "markdown",
   "id": "68eedb29-ce3c-4167-9d4c-fa74c58e8d28",
   "metadata": {},
   "source": [
    "### 4.2.1. - LDA trained with NEGATIVE reviews only"
   ]
  },
  {
   "cell_type": "markdown",
   "id": "86cc9898-6a33-4f23-b2a4-4d90c839bd2a",
   "metadata": {},
   "source": [
    "Let's now **train a LDA model exclusively on reviews with negative sentiment** so that we can **extract more meaningfull insights** regarding **pain points** on each app."
   ]
  },
  {
   "cell_type": "code",
   "execution_count": 22,
   "id": "6b60fa05-95a3-45b7-86bb-4ff82020bfdb",
   "metadata": {},
   "outputs": [
    {
     "name": "stdout",
     "output_type": "stream",
     "text": [
      "df_model shape: (429456, 21)\n",
      "df_neg shape: (58915, 21)\n"
     ]
    }
   ],
   "source": [
    "df_neg = df_model[df_model['review_sentiment_label'] == 'negative'].copy()\n",
    "\n",
    "print(f\"df_model shape: {df_model.shape}\")\n",
    "print(f\"df_neg shape: {df_neg.shape}\")"
   ]
  },
  {
   "cell_type": "markdown",
   "id": "82a3efdd-dbfc-4b9f-926e-8cbba0dbc48a",
   "metadata": {},
   "source": [
    "**I. INITIAL RUN OF LDA WITH 10 TOPICS**"
   ]
  },
  {
   "cell_type": "code",
   "execution_count": 23,
   "id": "9f776d9a-9d66-45b7-ad15-282822de2a31",
   "metadata": {},
   "outputs": [
    {
     "name": "stdout",
     "output_type": "stream",
     "text": [
      "LDA fit done: 10 topics in 109.5s\n",
      "Top words @ 10 topics\n",
      "Topic 00: access transfer | farce | fees card | disgrace | dissatisfied | currencies travel | council tax | card metal | barcleys | costing | expiring | assets\n",
      "Topic 01: download install | backgrounds | backs | copies | aplikacja | attempts | council tax | crash | countries currency | advert | card today | charge\n",
      "Topic 02: farce | crash | currency payments | bloody | disabling | features coming | commissions | big update | fintech company | deleted | fails load | classic\n",
      "Topic 03: errors | copies | advising | complain | appears | expiring | expiry | adopt | aint broke | encounter | encanta | card paid\n",
      "Topic 04: classic | convinced | considering | available samsung | chosen | apt | captured | access transfer | disgrace | create virtual | click button | enter pin\n",
      "Topic 05: access personal | farce | crash | basic card | bugs fixed | click button | direct feature | basic functionality | features exchange | crashing login | avoid avoid | card block\n",
      "Topic 06: ability view | bloody | barcleys | bla | apt | crash | card paid | commissions | aplikacja | double | classic | commodities\n",
      "Topic 07: android tablet | features transactions | award | copies | annoying frustrating | annual | aware | card lose | complain | capable | expire | budget save\n",
      "Topic 08: complain | expiry | clumsy | allow login | explaining | domestic | adult | cancel direct | awful awful | card asked | disappointed update | asia\n",
      "Topic 09: current exchange | beautifully | finally updated | balance away | ability view | countries currency | employed | crashing pay | changed log | balance moving | coin | covering\n",
      "\n"
     ]
    }
   ],
   "source": [
    "vectorizer_neg = build_vectorizer(stop_words)\n",
    "X_neg = vectorizer_neg.fit_transform(df_neg['review_extra_clean'])\n",
    "vocab_neg = vectorizer_neg.get_feature_names_out()\n",
    "\n",
    "lda_neg_10 = fit_lda(X_neg, n_topics=10)\n",
    "print_top_words(lda_neg_10, vocab, n_top=12, title =\"Top words @ 10 topics\")"
   ]
  },
  {
   "cell_type": "markdown",
   "id": "a31fcdad-32ed-4c31-8100-16c4ae682c46",
   "metadata": {},
   "source": [
    "**II. Finetune stopwords and re-run LDA**"
   ]
  },
  {
   "cell_type": "code",
   "execution_count": 24,
   "id": "aaabe152-ea0b-4fcf-8295-8b6ef1c9f071",
   "metadata": {},
   "outputs": [],
   "source": [
    "neg_extra = {\n",
    "    'abd','abit','according','address','anoying','annoying','approximately','appit',\n",
    "    'applies','arbitrary','arise','aspects','awful','awhile','awkward','bare','bardzo',\n",
    "    'barclaycard','based','basis','banki','began','begin','believe','barely',\n",
    "    'bloody','boys','buys','centres','consider','constantly','continue','continually',\n",
    "    'contrary','cool','corporate','cos','couple','covered','damn','dave','dear',\n",
    "    'decades','dedicated','depend','der','des','difficult','die','dinosaur',\n",
    "    'dirty','dislike','dosnt','email','exist','faced','fairly','firstly','fix',\n",
    "    'frustrating','fyi','goto','half','hanging','hate','heavy','heard', 'infuriating',\n",
    "    'minutes','poor','saying','waste','hello','worse','wouldnt'\n",
    "}\n",
    "\n",
    "stop_words_neg = list(set(stop_words).union(neg_extra))"
   ]
  },
  {
   "cell_type": "code",
   "execution_count": 25,
   "id": "990ad1d7-8003-47f3-b295-5ad783b7b33e",
   "metadata": {},
   "outputs": [],
   "source": [
    "vectorizer_neg = build_vectorizer(stop_words_neg, ngram_range=(1,2), min_df=25, max_df=0.6)\n",
    "X_neg = vectorizer_neg.fit_transform(df_neg['review_extra_clean'])\n",
    "vocab_neg = vectorizer_neg.get_feature_names_out()"
   ]
  },
  {
   "cell_type": "code",
   "execution_count": 26,
   "id": "92823e37-73b7-4e23-82f2-9008cecbe5e0",
   "metadata": {},
   "outputs": [
    {
     "name": "stdout",
     "output_type": "stream",
     "text": [
      "Dropped after SW-length filter: 342\n"
     ]
    }
   ],
   "source": [
    "tmp_vec = CountVectorizer(\n",
    "    preprocessor=lambda x: x,\n",
    "    token_pattern=r'(?u)\\b[a-z<][a-z<>-]{2,}\\b',\n",
    "    stop_words=stop_words_neg,\n",
    "    ngram_range=(1,1)\n",
    ")\n",
    "analyze = tmp_vec.build_analyzer()\n",
    "\n",
    "min_tokens_after_sw = 1\n",
    "mask = df_neg['review_extra_clean'].map(lambda s: len(analyze(s)) >= min_tokens_after_sw)\n",
    "print(\"Dropped after SW-length filter:\", int((~mask).sum()))\n",
    "df_neg = df_neg[mask].copy()"
   ]
  },
  {
   "cell_type": "markdown",
   "id": "6c11736d-1000-4609-9748-6cffd36e88a2",
   "metadata": {},
   "source": [
    "**III. Test different `n_topics` and evaluate results**"
   ]
  },
  {
   "cell_type": "code",
   "execution_count": 27,
   "id": "9c0669a2-9c02-4c6d-937c-1922a489ec7c",
   "metadata": {},
   "outputs": [],
   "source": [
    "Xtr, Xva = train_test_split(X_neg, test_size=0.2, random_state=42)"
   ]
  },
  {
   "cell_type": "code",
   "execution_count": 28,
   "id": "02e93013-2cc3-4e58-bf63-1c53ff0ff373",
   "metadata": {},
   "outputs": [
    {
     "name": "stdout",
     "output_type": "stream",
     "text": [
      "LDA fit done: 4 topics in 98.8s\n",
      "LDA fit done: 5 topics in 93.8s\n",
      "LDA fit done: 6 topics in 92.1s\n",
      "LDA fit done: 7 topics in 89.5s\n",
      "LDA fit done: 8 topics in 86.5s\n"
     ]
    },
    {
     "data": {
      "text/html": [
       "<div>\n",
       "<style scoped>\n",
       "    .dataframe tbody tr th:only-of-type {\n",
       "        vertical-align: middle;\n",
       "    }\n",
       "\n",
       "    .dataframe tbody tr th {\n",
       "        vertical-align: top;\n",
       "    }\n",
       "\n",
       "    .dataframe thead th {\n",
       "        text-align: right;\n",
       "    }\n",
       "</style>\n",
       "<table border=\"1\" class=\"dataframe\">\n",
       "  <thead>\n",
       "    <tr style=\"text-align: right;\">\n",
       "      <th></th>\n",
       "      <th>k</th>\n",
       "      <th>perplexity_train</th>\n",
       "      <th>perplexity_valid</th>\n",
       "      <th>elbo_train</th>\n",
       "      <th>elbo_valid</th>\n",
       "    </tr>\n",
       "  </thead>\n",
       "  <tbody>\n",
       "    <tr>\n",
       "      <th>0</th>\n",
       "      <td>4</td>\n",
       "      <td>1208.547933</td>\n",
       "      <td>1464.296445</td>\n",
       "      <td>-2.675245e+06</td>\n",
       "      <td>-691607.248207</td>\n",
       "    </tr>\n",
       "    <tr>\n",
       "      <th>1</th>\n",
       "      <td>5</td>\n",
       "      <td>1222.242746</td>\n",
       "      <td>1532.968721</td>\n",
       "      <td>-2.679492e+06</td>\n",
       "      <td>-695955.814640</td>\n",
       "    </tr>\n",
       "    <tr>\n",
       "      <th>2</th>\n",
       "      <td>6</td>\n",
       "      <td>1235.813579</td>\n",
       "      <td>1597.398345</td>\n",
       "      <td>-2.683654e+06</td>\n",
       "      <td>-699862.113785</td>\n",
       "    </tr>\n",
       "    <tr>\n",
       "      <th>3</th>\n",
       "      <td>7</td>\n",
       "      <td>1250.305954</td>\n",
       "      <td>1664.827782</td>\n",
       "      <td>-2.688049e+06</td>\n",
       "      <td>-703785.049180</td>\n",
       "    </tr>\n",
       "    <tr>\n",
       "      <th>4</th>\n",
       "      <td>8</td>\n",
       "      <td>1238.601040</td>\n",
       "      <td>1691.338722</td>\n",
       "      <td>-2.684503e+06</td>\n",
       "      <td>-705284.059056</td>\n",
       "    </tr>\n",
       "  </tbody>\n",
       "</table>\n",
       "</div>"
      ],
      "text/plain": [
       "   k  perplexity_train  perplexity_valid    elbo_train     elbo_valid\n",
       "0  4       1208.547933       1464.296445 -2.675245e+06 -691607.248207\n",
       "1  5       1222.242746       1532.968721 -2.679492e+06 -695955.814640\n",
       "2  6       1235.813579       1597.398345 -2.683654e+06 -699862.113785\n",
       "3  7       1250.305954       1664.827782 -2.688049e+06 -703785.049180\n",
       "4  8       1238.601040       1691.338722 -2.684503e+06 -705284.059056"
      ]
     },
     "metadata": {},
     "output_type": "display_data"
    }
   ],
   "source": [
    "candidate_negtopics = [4,5,6,7,8]\n",
    "lda_models, rows = {}, []\n",
    "\n",
    "for k in candidate_negtopics:\n",
    "    model = fit_lda(Xtr, k)\n",
    "    lda_models[k]=model\n",
    "    rows.append({\n",
    "        \"k\": k,\n",
    "        \"perplexity_train\": model.perplexity(Xtr),  # lower = better\n",
    "        \"perplexity_valid\": model.perplexity(Xva),  # lower = better\n",
    "        \"elbo_train\": model.score(Xtr),             # higher = better\n",
    "        \"elbo_valid\": model.score(Xva)              # higher = better\n",
    "    })\n",
    "\n",
    "neg_metrics_df = pd.DataFrame(rows).sort_values(\"k\").reset_index(drop=True)\n",
    "display(neg_metrics_df)"
   ]
  },
  {
   "cell_type": "code",
   "execution_count": 29,
   "id": "721cc737-69e5-4cca-8212-bc7c4bffec46",
   "metadata": {},
   "outputs": [
    {
     "data": {
      "image/png": "[encoded data removed]",
      "text/plain": [
       "<Figure size 640x480 with 1 Axes>"
      ]
     },
     "metadata": {},
     "output_type": "display_data"
    }
   ],
   "source": [
    "plt.plot(neg_metrics_df[\"k\"], neg_metrics_df[\"perplexity_valid\"], marker=\"o\")\n",
    "plt.xlabel(\"k (topics)\")\n",
    "plt.ylabel(\"Perplexity (validation)\")\n",
    "plt.title(\"LDA: validation perplexity vs k\")\n",
    "plt.show()"
   ]
  },
  {
   "cell_type": "code",
   "execution_count": 30,
   "id": "e95363f1-9398-451b-9a45-5c39c9181bd7",
   "metadata": {},
   "outputs": [
    {
     "name": "stdout",
     "output_type": "stream",
     "text": [
      "\n",
      "=== k=4 ===\n",
      "Topic 00: phone | update | log | access | login | code | android | screen | problem | updated | version | crashes\n",
      "Topic 01: pay | card | payments | payment | contactless | user | transactions | paying | lost | update | option | features\n",
      "Topic 02: error | update | balance | message | problem | problems | notifications | issue | direct | check | download | available\n",
      "Topic 03: money | service | customer | transfer | card | customer service | support | chat | help | contact | blocked | access\n",
      "\n",
      "\n",
      "=== k=5 ===\n",
      "Topic 00: phone | log | update | access | code | login | password | fingerprint | details | device | security | updated\n",
      "Topic 01: pay | card | payments | payment | contactless | lost | paying | transactions | credit | feature | cards | photo\n",
      "Topic 02: update | error | screen | balance | message | notifications | problems | log | transactions | check | problem | direct\n",
      "Topic 03: money | service | customer | transfer | customer service | chat | support | card | help | contact | blocked | access\n",
      "Topic 04: version | problem | update | android | money | user | pay | stop | support | fees | phone | samsung\n",
      "\n",
      "\n",
      "=== k=6 ===\n",
      "Topic 00: phone | log | update | access | login | code | password | fingerprint | updated | device | details | security\n",
      "Topic 01: pay | payments | card | payment | contactless | problems | paying | lost | transactions | updates | crashing | credit\n",
      "Topic 02: update | error | screen | balance | message | notifications | log | transactions | check | direct | page | view\n",
      "Topic 03: money | transfer | chat | blocked | help | access | transfer money | funds | contact | fraud | block | scam\n",
      "Topic 04: version | problem | update | android | user | fees | phone | stop | previous | upgrade | pay | confusing\n",
      "Topic 05: service | customer | card | customer service | support | chat | hours | verify | verification | issue | send | help\n",
      "\n",
      "\n",
      "=== k=7 ===\n",
      "Topic 00: phone | update | log | access | password | updated | login | android | fingerprint | code | screen | pin\n",
      "Topic 01: pay | payments | payment | contactless | card | lost | paying | transactions | feature | updates | features | crashing\n",
      "Topic 02: update | notifications | screen | balance | transactions | view | direct | option | download | page | list | payment\n",
      "Topic 03: money | transfer | chat | help | blocked | access | transfer money | contact | fraud | funds | support | problem\n",
      "Topic 04: pay | version | problem | user | android | support | fees | money | exchange | crypto | rate | previous\n",
      "Topic 05: service | customer | card | customer service | support | chat | hours | verify | verification | send | money | asked\n",
      "Topic 06: error | problems | details | log | message | update | issue | code | crashes | device | login | problem\n",
      "\n",
      "\n",
      "=== k=8 ===\n",
      "Topic 00: phone | update | log | android | updated | access | fingerprint | problem | password | login | screen | uninstalled\n",
      "Topic 01: pay | payments | payment | contactless | card | paying | updates | transactions | crashing | feature | functionality | features\n",
      "Topic 02: update | screen | balance | notifications | transactions | view | page | direct | download | list | statements | home\n",
      "Topic 03: money | transfer | access | blocked | transfer money | payment | pay | card | fraud | funds | block | transaction\n",
      "Topic 04: version | user | update | pay | fees | stop | previous | confusing | upgrade | crypto | exchange | rate\n",
      "Topic 05: card | code | send | security | verify | phone | verification | process | details | pin | information | accept\n",
      "Topic 06: error | problems | log | details | message | update | login | issue | device | credit | reinstall | problem\n",
      "Topic 07: service | customer | customer service | support | chat | help | lost | contact | money | problem | card | hours\n",
      "\n"
     ]
    }
   ],
   "source": [
    "for k in candidate_negtopics:\n",
    "    print_top_words(lda_models[k], vocab_neg, n_top=12, title=f\"\\n=== k={k} ===\")"
   ]
  },
  {
   "cell_type": "markdown",
   "id": "e3f7e7b5-0333-4877-8ddc-855a72b347c9",
   "metadata": {},
   "source": [
    "**✅ RUN SELECTED MODEL AND SAVE RESULTS**"
   ]
  },
  {
   "cell_type": "code",
   "execution_count": 31,
   "id": "7e6c2252-0522-46c8-b0cb-3c866b4dbc4a",
   "metadata": {},
   "outputs": [
    {
     "name": "stdout",
     "output_type": "stream",
     "text": [
      "LDA fit done: 6 topics in 115.2s\n",
      "Topic 00: phone | log | update | access | code | login | password | fingerprint | updated | device | security | details\n",
      "Topic 01: pay | payments | card | payment | contactless | problems | lost | paying | transactions | feature | credit | crashing\n",
      "Topic 02: update | error | screen | message | balance | notifications | log | page | download | direct | problem | transactions\n",
      "Topic 03: money | transfer | blocked | access | transfer money | help | funds | fraud | transaction | send | payment | block\n",
      "Topic 04: version | problem | user | update | android | fees | pay | previous | upgrade | crypto | exchange | confusing\n",
      "Topic 05: service | customer | card | customer service | support | chat | hours | contact | help | verify | verification | issue\n",
      "\n"
     ]
    }
   ],
   "source": [
    "chosen_k_neg = 6\n",
    "\n",
    "lda_best_neg = fit_lda(X_neg, n_topics=chosen_k_neg)\n",
    "\n",
    "print_top_words(lda_best_neg, vocab_neg, 12)"
   ]
  },
  {
   "cell_type": "code",
   "execution_count": 32,
   "id": "0e1d8266-fb21-4322-9cc0-cd8784a03a2e",
   "metadata": {},
   "outputs": [
    {
     "name": "stdout",
     "output_type": "stream",
     "text": [
      "✅ Files saved\n"
     ]
    }
   ],
   "source": [
    "# Save\n",
    "joblib.dump(lda_best_neg, \"../assets/lda_final_NEG.pkl\")\n",
    "joblib.dump(vectorizer_neg, \"../assets/vectorizer_final_NEG.pkl\")\n",
    "print(\"✅ Files saved\")"
   ]
  },
  {
   "cell_type": "markdown",
   "id": "d76e95f7-edf2-4afe-8e89-81092d7af280",
   "metadata": {},
   "source": [
    "### 4.2.2. - LDA trained with POSITIVE reviews only"
   ]
  },
  {
   "cell_type": "markdown",
   "id": "2a755956-8c1d-49a5-9fd5-ef735db4c391",
   "metadata": {},
   "source": [
    "Finally we'll **train a LDA model exclusively on reviews with positive sentiment** so that we can **extract more meaningfull insights** regarding **strenghts** on each app."
   ]
  },
  {
   "cell_type": "code",
   "execution_count": 33,
   "id": "1abcbe9b-3312-4362-8045-36133d496f24",
   "metadata": {},
   "outputs": [
    {
     "name": "stdout",
     "output_type": "stream",
     "text": [
      "df_model shape: (429456, 21)\n",
      "df_neg shape: (309006, 21)\n"
     ]
    }
   ],
   "source": [
    "df_pos = df_model[df_model['review_sentiment_label'] == 'positive'].copy()\n",
    "\n",
    "print(f\"df_model shape: {df_model.shape}\")\n",
    "print(f\"df_neg shape: {df_pos.shape}\")"
   ]
  },
  {
   "cell_type": "markdown",
   "id": "9d75570c-d849-4c86-976e-d39d70e9a36b",
   "metadata": {},
   "source": [
    "**I. INITIAL RUN OF LDA WITH 10 TOPICS**"
   ]
  },
  {
   "cell_type": "code",
   "execution_count": 34,
   "id": "71665baf-5532-47e7-a279-eb4cadef7bbd",
   "metadata": {},
   "outputs": [
    {
     "name": "stdout",
     "output_type": "stream",
     "text": [
      "LDA fit done: 10 topics in 399.2s\n",
      "Top words @ 10 topics\n",
      "Topic 00: abroad | balance | money | free | currency | transferring | check | spending | feel | transferring money | fees | check balance\n",
      "Topic 01: problem | services | intuitive | paying | crypto | save | credit | cool | saving | layout | financial | credit card\n",
      "Topic 02: card | money | manage | transactions | rate | exchange | check | send | cards | currencies | send money | payments\n",
      "Topic 03: transfer | money | access | rates | transfer money | track | transfers | exchange | exchange rates | help | friends | family\n",
      "Topic 04: features | options | cash | managing | transactions | card | travelling | world | tool | notifications | site | wouldnt\n",
      "Topic 05: update | phone | log | payment | screen | android | updated | version | crashes | payee | contactless | load\n",
      "Topic 06: service | secure | navigate | customer | customer service | direct | interface | functionality | complaints | debits | direct debits | clean\n",
      "Topic 07: support | help | security | issue | fingerprint | transaction | chat | customer | login | option | contact | lost\n",
      "Topic 08: user | friendly | pay | user friendly | bills | everyday | internet | pay bills | interface | money | moving | gets\n",
      "Topic 09: problems | payments | security | control | fault | international | transfers | information | transactions | standing | staff | lovely\n",
      "\n"
     ]
    }
   ],
   "source": [
    "vectorizer_pos = build_vectorizer(stop_words)\n",
    "X_pos = vectorizer_pos.fit_transform(df_pos['review_extra_clean'])\n",
    "vocab_pos = vectorizer_pos.get_feature_names_out()\n",
    "\n",
    "lda_pos_10 = fit_lda(X_pos, n_topics=10)\n",
    "print_top_words(lda_pos_10, vocab_pos, n_top=12, title =\"Top words @ 10 topics\")"
   ]
  },
  {
   "cell_type": "markdown",
   "id": "44fb924f-b231-41d9-8645-b5aa6a015de7",
   "metadata": {},
   "source": [
    "**II. Finetune stopwords and re-run LDA**"
   ]
  },
  {
   "cell_type": "code",
   "execution_count": 35,
   "id": "aa114900-445c-42a5-8fc1-2708e1c3e0a4",
   "metadata": {},
   "outputs": [],
   "source": [
    "pos_extra = {'lovely'} #\n",
    "\n",
    "stop_words_pos = list(set(stop_words).union(pos_extra))"
   ]
  },
  {
   "cell_type": "code",
   "execution_count": 36,
   "id": "7a5c2df1-c556-4b03-9300-efac8246dd5b",
   "metadata": {},
   "outputs": [],
   "source": [
    "vectorizer_pos = build_vectorizer(stop_words_pos, ngram_range=(1,2), min_df=25, max_df=0.6)\n",
    "X_pos = vectorizer_pos.fit_transform(df_pos['review_extra_clean'])\n",
    "vocab_pos = vectorizer_pos.get_feature_names_out()"
   ]
  },
  {
   "cell_type": "code",
   "execution_count": 37,
   "id": "e5921e0b-98b7-466c-a0a3-a86b1ace8721",
   "metadata": {},
   "outputs": [
    {
     "name": "stdout",
     "output_type": "stream",
     "text": [
      "Dropped after SW-length filter: 475\n"
     ]
    }
   ],
   "source": [
    "tmp_vec = CountVectorizer(\n",
    "    preprocessor=lambda x: x,\n",
    "    token_pattern=r'(?u)\\b[a-z<][a-z<>-]{2,}\\b',\n",
    "    stop_words=stop_words_pos,\n",
    "    ngram_range=(1,1)\n",
    ")\n",
    "analyze = tmp_vec.build_analyzer()\n",
    "\n",
    "min_tokens_after_sw = 1\n",
    "mask = df_pos['review_extra_clean'].map(lambda s: len(analyze(s)) >= min_tokens_after_sw)\n",
    "print(\"Dropped after SW-length filter:\", int((~mask).sum()))\n",
    "df_pos = df_pos[mask].copy()"
   ]
  },
  {
   "cell_type": "markdown",
   "id": "f0990ad4-da74-4c2e-8c22-5a6a2587102c",
   "metadata": {},
   "source": [
    "**III. Test different `n_topics` and evaluate results**"
   ]
  },
  {
   "cell_type": "code",
   "execution_count": 38,
   "id": "d5d693c2-7684-4b6c-8e21-4cfc1e4df1d9",
   "metadata": {},
   "outputs": [],
   "source": [
    "Xtr, Xva = train_test_split(X_pos, test_size=0.2, random_state=42)"
   ]
  },
  {
   "cell_type": "code",
   "execution_count": 39,
   "id": "eec6607c-8efd-4339-b3d1-9a91b30010e4",
   "metadata": {},
   "outputs": [
    {
     "name": "stdout",
     "output_type": "stream",
     "text": [
      "LDA fit done: 4 topics in 368.6s\n",
      "LDA fit done: 5 topics in 343.2s\n",
      "LDA fit done: 6 topics in 331.5s\n",
      "LDA fit done: 7 topics in 321.7s\n",
      "LDA fit done: 8 topics in 317.8s\n"
     ]
    },
    {
     "data": {
      "text/html": [
       "<div>\n",
       "<style scoped>\n",
       "    .dataframe tbody tr th:only-of-type {\n",
       "        vertical-align: middle;\n",
       "    }\n",
       "\n",
       "    .dataframe tbody tr th {\n",
       "        vertical-align: top;\n",
       "    }\n",
       "\n",
       "    .dataframe thead th {\n",
       "        text-align: right;\n",
       "    }\n",
       "</style>\n",
       "<table border=\"1\" class=\"dataframe\">\n",
       "  <thead>\n",
       "    <tr style=\"text-align: right;\">\n",
       "      <th></th>\n",
       "      <th>k</th>\n",
       "      <th>perplexity_train</th>\n",
       "      <th>perplexity_valid</th>\n",
       "      <th>elbo_train</th>\n",
       "      <th>elbo_valid</th>\n",
       "    </tr>\n",
       "  </thead>\n",
       "  <tbody>\n",
       "    <tr>\n",
       "      <th>0</th>\n",
       "      <td>4</td>\n",
       "      <td>1474.858983</td>\n",
       "      <td>1687.333089</td>\n",
       "      <td>-7.821864e+06</td>\n",
       "      <td>-1.992025e+06</td>\n",
       "    </tr>\n",
       "    <tr>\n",
       "      <th>1</th>\n",
       "      <td>5</td>\n",
       "      <td>1447.007410</td>\n",
       "      <td>1680.350932</td>\n",
       "      <td>-7.801426e+06</td>\n",
       "      <td>-1.990913e+06</td>\n",
       "    </tr>\n",
       "    <tr>\n",
       "      <th>2</th>\n",
       "      <td>6</td>\n",
       "      <td>1428.781425</td>\n",
       "      <td>1683.812163</td>\n",
       "      <td>-7.787837e+06</td>\n",
       "      <td>-1.991465e+06</td>\n",
       "    </tr>\n",
       "    <tr>\n",
       "      <th>3</th>\n",
       "      <td>7</td>\n",
       "      <td>1424.883879</td>\n",
       "      <td>1703.052515</td>\n",
       "      <td>-7.784909e+06</td>\n",
       "      <td>-1.994511e+06</td>\n",
       "    </tr>\n",
       "    <tr>\n",
       "      <th>4</th>\n",
       "      <td>8</td>\n",
       "      <td>1430.764679</td>\n",
       "      <td>1735.663159</td>\n",
       "      <td>-7.789324e+06</td>\n",
       "      <td>-1.999595e+06</td>\n",
       "    </tr>\n",
       "  </tbody>\n",
       "</table>\n",
       "</div>"
      ],
      "text/plain": [
       "   k  perplexity_train  perplexity_valid    elbo_train    elbo_valid\n",
       "0  4       1474.858983       1687.333089 -7.821864e+06 -1.992025e+06\n",
       "1  5       1447.007410       1680.350932 -7.801426e+06 -1.990913e+06\n",
       "2  6       1428.781425       1683.812163 -7.787837e+06 -1.991465e+06\n",
       "3  7       1424.883879       1703.052515 -7.784909e+06 -1.994511e+06\n",
       "4  8       1430.764679       1735.663159 -7.789324e+06 -1.999595e+06"
      ]
     },
     "metadata": {},
     "output_type": "display_data"
    }
   ],
   "source": [
    "candidate_postopics = [4,5,6,7,8]\n",
    "lda_models, rows = {}, []\n",
    "\n",
    "for k in candidate_postopics:\n",
    "    model = fit_lda(Xtr, k)\n",
    "    lda_models[k]=model\n",
    "    rows.append({\n",
    "        \"k\": k,\n",
    "        \"perplexity_train\": model.perplexity(Xtr),  # lower = better\n",
    "        \"perplexity_valid\": model.perplexity(Xva),  # lower = better\n",
    "        \"elbo_train\": model.score(Xtr),             # higher = better\n",
    "        \"elbo_valid\": model.score(Xva)              # higher = better\n",
    "    })\n",
    "\n",
    "pos_metrics_df = pd.DataFrame(rows).sort_values(\"k\").reset_index(drop=True)\n",
    "display(pos_metrics_df)"
   ]
  },
  {
   "cell_type": "code",
   "execution_count": 40,
   "id": "a361c45f-6e84-4839-80dc-00e20c47aebe",
   "metadata": {},
   "outputs": [
    {
     "data": {
      "image/png": "[encoded data removed]",
      "text/plain": [
       "<Figure size 640x480 with 1 Axes>"
      ]
     },
     "metadata": {},
     "output_type": "display_data"
    }
   ],
   "source": [
    "plt.plot(pos_metrics_df[\"k\"], pos_metrics_df[\"perplexity_valid\"], marker=\"o\")\n",
    "plt.xlabel(\"k (topics)\")\n",
    "plt.ylabel(\"Perplexity (validation)\")\n",
    "plt.title(\"LDA: validation perplexity vs k\")\n",
    "plt.show()"
   ]
  },
  {
   "cell_type": "code",
   "execution_count": 41,
   "id": "5d71757c-a067-41f1-9388-d50703400427",
   "metadata": {},
   "outputs": [
    {
     "name": "stdout",
     "output_type": "stream",
     "text": [
      "\n",
      "=== k=4 ===\n",
      "Topic 00: service | card | user | friendly | user friendly | navigate | exchange | rates | abroad | currency | travel | credit\n",
      "Topic 01: features | security | problem | transactions | manage | log | control | update | payment | fingerprint | login | screen\n",
      "Topic 02: money | secure | transfer | payments | check | pay | transfers | access | transfer money | balance | track | spending\n",
      "Topic 03: problems | phone | update | customer | support | services | free | help | pay | issue | customer service | crypto\n",
      "\n",
      "\n",
      "=== k=5 ===\n",
      "Topic 00: service | user | friendly | user friendly | navigate | customer | customer service | manage | fault | internet | financial | travelling\n",
      "Topic 01: features | security | problem | transactions | log | fingerprint | control | login | manage | screen | payment | update\n",
      "Topic 02: money | transfer | check | access | balance | pay | transfer money | payments | track | spending | bills | options\n",
      "Topic 03: problems | phone | update | support | help | services | issue | android | crypto | customer | interface | pay\n",
      "Topic 04: card | secure | money | exchange | payments | abroad | rates | currency | transfers | travel | free | credit\n",
      "\n",
      "\n",
      "=== k=6 ===\n",
      "Topic 00: service | user | friendly | user friendly | navigate | customer | customer service | fault | internet | security | faster | responsive\n",
      "Topic 01: features | transactions | manage | security | problem | control | log | fingerprint | feature | feel | payee | option\n",
      "Topic 02: money | secure | transfer | check | transfer money | balance | payments | track | pay | spending | bills | transferring\n",
      "Topic 03: problems | services | pay | crypto | interface | free | money | high | transaction | send | trading | buy\n",
      "Topic 04: card | money | exchange | payments | abroad | rates | currency | transfers | travel | credit | rate | friends\n",
      "Topic 05: phone | update | help | access | support | issue | log | information | android | updated | version | chat\n",
      "\n",
      "\n",
      "=== k=7 ===\n",
      "Topic 00: service | user | friendly | user friendly | customer | customer service | fault | internet | faster | security | responsive | line\n",
      "Topic 01: transactions | features | manage | security | problem | control | log | fingerprint | manage money | feature | payee | finger\n",
      "Topic 02: money | secure | transfer | check | transfer money | balance | track | spending | pay | bills | payments | transferring\n",
      "Topic 03: problems | services | pay | free | crypto | money | interface | send | high | buy | trading | stocks\n",
      "Topic 04: card | payments | money | abroad | credit | friends | save | pay | payment | cash | cards | direct\n",
      "Topic 05: update | phone | access | help | support | issue | log | version | android | information | updated | chat\n",
      "Topic 06: navigate | exchange | rates | currency | transfers | rate | travelling | currencies | exchange rates | travel | fees | instant\n",
      "\n",
      "\n",
      "=== k=8 ===\n",
      "Topic 00: service | user | friendly | user friendly | internet | faster | line | financial | wouldnt | responsive | design | security\n",
      "Topic 01: transactions | features | manage | security | problem | control | feel | manage money | feature | log | finger | home\n",
      "Topic 02: money | secure | transfer | check | transfer money | balance | track | spending | pay | bills | payments | transferring\n",
      "Topic 03: problems | pay | money | services | send | crypto | interface | send money | high | staff | buy | stocks\n",
      "Topic 04: card | payments | money | abroad | credit | friends | save | cash | pay | direct | credit card | intuitive\n",
      "Topic 05: update | phone | access | log | android | version | information | updated | login | help | screen | crashes\n",
      "Topic 06: navigate | exchange | rates | currency | transfers | rate | travelling | currencies | travel | exchange rates | fees | instant\n",
      "Topic 07: customer | support | service | customer service | help | free | chat | payment | fault | issue | year | lost\n",
      "\n"
     ]
    }
   ],
   "source": [
    "for k in candidate_postopics:\n",
    "    print_top_words(lda_models[k], vocab_pos, n_top=12, title=f\"\\n=== k={k} ===\")"
   ]
  },
  {
   "cell_type": "markdown",
   "id": "9f062096-53fe-49a3-8589-1f2e3fd4788c",
   "metadata": {},
   "source": [
    "**✅ RUN SELECTED MODEL AND SAVE RESULTS**"
   ]
  },
  {
   "cell_type": "code",
   "execution_count": 42,
   "id": "a741a940-162e-4c3d-944e-1441d321bfed",
   "metadata": {},
   "outputs": [
    {
     "name": "stdout",
     "output_type": "stream",
     "text": [
      "LDA fit done: 6 topics in 423.7s\n",
      "Topic 00: service | user | friendly | user friendly | navigate | customer | customer service | fault | security | internet | faster | responsive\n",
      "Topic 01: features | transactions | manage | security | problem | control | log | feature | feel | fingerprint | payee | option\n",
      "Topic 02: money | secure | transfer | check | transfer money | balance | payments | track | pay | spending | bills | transferring\n",
      "Topic 03: problems | services | pay | crypto | free | high | transaction | customer | trading | customers | staff | stocks\n",
      "Topic 04: card | money | exchange | payments | abroad | rates | transfers | currency | travel | rate | credit | friends\n",
      "Topic 05: phone | update | help | access | support | issue | log | version | updated | android | information | chat\n",
      "\n"
     ]
    }
   ],
   "source": [
    "chosen_k_pos = 6\n",
    "\n",
    "lda_best_pos = fit_lda(X_pos, n_topics=chosen_k_pos)\n",
    "\n",
    "print_top_words(lda_best_pos, vocab_pos, 12)"
   ]
  },
  {
   "cell_type": "code",
   "execution_count": 43,
   "id": "f097724e-6112-4c15-bd14-7a92025f825f",
   "metadata": {},
   "outputs": [
    {
     "name": "stdout",
     "output_type": "stream",
     "text": [
      "✅ Files saved\n"
     ]
    }
   ],
   "source": [
    "# Save\n",
    "joblib.dump(lda_best_pos, \"../assets/lda_final_POS.pkl\")\n",
    "joblib.dump(vectorizer_pos, \"../assets/vectorizer_final_POS.pkl\")\n",
    "print(\"✅ Files saved\")"
   ]
  }
 ],
 "metadata": {
  "kernelspec": {
   "display_name": "Python 3 (ipykernel)",
   "language": "python",
   "name": "python3"
  },
  "language_info": {
   "codemirror_mode": {
    "name": "ipython",
    "version": 3
   },
   "file_extension": ".py",
   "mimetype": "text/x-python",
   "name": "python",
   "nbconvert_exporter": "python",
   "pygments_lexer": "ipython3",
   "version": "3.13.5"
  }
 },
 "nbformat": 4,
 "nbformat_minor": 5
}
