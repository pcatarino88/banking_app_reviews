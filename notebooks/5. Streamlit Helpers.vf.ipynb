{
 "cells": [
  {
   "cell_type": "markdown",
   "id": "def32914-0634-4b2b-8595-20adb4159d79",
   "metadata": {},
   "source": [
    "# Setup"
   ]
  },
  {
   "cell_type": "markdown",
   "id": "52083057-287b-4788-a6d3-98690f562937",
   "metadata": {},
   "source": [
    "📝 *Import required libraries and files:*"
   ]
  },
  {
   "cell_type": "code",
   "execution_count": 1,
   "id": "f8223f20-bb54-4f24-8b95-cdf14d71e8a3",
   "metadata": {},
   "outputs": [
    {
     "name": "stdout",
     "output_type": "stream",
     "text": [
      "Requirement already satisfied: huggingface_hub in c:\\users\\pedro\\anaconda3\\lib\\site-packages (0.34.4)\n",
      "Collecting huggingface_hub\n",
      "  Downloading huggingface_hub-0.35.0-py3-none-any.whl.metadata (14 kB)\n",
      "Requirement already satisfied: pyarrow in c:\\users\\pedro\\anaconda3\\lib\\site-packages (21.0.0)\n",
      "Requirement already satisfied: filelock in c:\\users\\pedro\\anaconda3\\lib\\site-packages (from huggingface_hub) (3.17.0)\n",
      "Requirement already satisfied: fsspec>=2023.5.0 in c:\\users\\pedro\\anaconda3\\lib\\site-packages (from huggingface_hub) (2025.3.2)\n",
      "Requirement already satisfied: packaging>=20.9 in c:\\users\\pedro\\anaconda3\\lib\\site-packages (from huggingface_hub) (24.2)\n",
      "Requirement already satisfied: pyyaml>=5.1 in c:\\users\\pedro\\anaconda3\\lib\\site-packages (from huggingface_hub) (6.0.2)\n",
      "Requirement already satisfied: requests in c:\\users\\pedro\\anaconda3\\lib\\site-packages (from huggingface_hub) (2.32.3)\n",
      "Requirement already satisfied: tqdm>=4.42.1 in c:\\users\\pedro\\anaconda3\\lib\\site-packages (from huggingface_hub) (4.67.1)\n",
      "Requirement already satisfied: typing-extensions>=3.7.4.3 in c:\\users\\pedro\\anaconda3\\lib\\site-packages (from huggingface_hub) (4.14.1)\n",
      "Requirement already satisfied: colorama in c:\\users\\pedro\\anaconda3\\lib\\site-packages (from tqdm>=4.42.1->huggingface_hub) (0.4.6)\n",
      "Requirement already satisfied: charset-normalizer<4,>=2 in c:\\users\\pedro\\anaconda3\\lib\\site-packages (from requests->huggingface_hub) (3.3.2)\n",
      "Requirement already satisfied: idna<4,>=2.5 in c:\\users\\pedro\\anaconda3\\lib\\site-packages (from requests->huggingface_hub) (3.7)\n",
      "Requirement already satisfied: urllib3<3,>=1.21.1 in c:\\users\\pedro\\anaconda3\\lib\\site-packages (from requests->huggingface_hub) (2.5.0)\n",
      "Requirement already satisfied: certifi>=2017.4.17 in c:\\users\\pedro\\anaconda3\\lib\\site-packages (from requests->huggingface_hub) (2025.8.3)\n",
      "Downloading huggingface_hub-0.35.0-py3-none-any.whl (563 kB)\n",
      "   ---------------------------------------- 0.0/563.4 kB ? eta -:--:--\n",
      "   ---------------------------------------- 563.4/563.4 kB 8.2 MB/s eta 0:00:00\n",
      "Installing collected packages: huggingface_hub\n",
      "  Attempting uninstall: huggingface_hub\n",
      "    Found existing installation: huggingface-hub 0.34.4\n",
      "    Uninstalling huggingface-hub-0.34.4:\n",
      "      Successfully uninstalled huggingface-hub-0.34.4\n",
      "Successfully installed huggingface_hub-0.35.0\n"
     ]
    }
   ],
   "source": [
    "!pip install -U huggingface_hub pyarrow"
   ]
  },
  {
   "cell_type": "code",
   "execution_count": 2,
   "id": "db3408f2-27f7-4650-b322-b07cc33d2f78",
   "metadata": {},
   "outputs": [],
   "source": [
    "import pandas as pd\n",
    "import numpy as np\n",
    "from huggingface_hub import login, HfApi, hf_hub_download\n",
    "import tomllib\n",
    "from datetime import date\n",
    "import tempfile, os\n",
    "import streamlit as st"
   ]
  },
  {
   "cell_type": "code",
   "execution_count": 3,
   "id": "99b02f20-f5fb-4f5a-bcf7-af7a452d4d9d",
   "metadata": {},
   "outputs": [],
   "source": [
    "with open(\"../.streamlit/secrets.toml\", \"rb\") as f:\n",
    "    secrets = tomllib.load(f)\n",
    "\n",
    "hf_token = secrets.get(\"HF_TOKEN\")\n",
    "repo_id = secrets.get(\"HF_REPO_ID\")\n",
    "\n",
    "login(token=hf_token) "
   ]
  },
  {
   "cell_type": "markdown",
   "id": "48622042-31b9-4610-8d6f-44e4c15fff0d",
   "metadata": {},
   "source": [
    "# 5.1. - DF complete"
   ]
  },
  {
   "cell_type": "code",
   "execution_count": 4,
   "id": "7b98dec0-596d-43b8-b7f8-b31190a90b4d",
   "metadata": {},
   "outputs": [
    {
     "name": "stdout",
     "output_type": "stream",
     "text": [
      "df shape: (703563, 26)\n"
     ]
    },
    {
     "data": {
      "text/html": [
       "<div>\n",
       "<style scoped>\n",
       "    .dataframe tbody tr th:only-of-type {\n",
       "        vertical-align: middle;\n",
       "    }\n",
       "\n",
       "    .dataframe tbody tr th {\n",
       "        vertical-align: top;\n",
       "    }\n",
       "\n",
       "    .dataframe thead th {\n",
       "        text-align: right;\n",
       "    }\n",
       "</style>\n",
       "<table border=\"1\" class=\"dataframe\">\n",
       "  <thead>\n",
       "    <tr style=\"text-align: right;\">\n",
       "      <th></th>\n",
       "      <th>review_id</th>\n",
       "      <th>app</th>\n",
       "      <th>score</th>\n",
       "      <th>review_text</th>\n",
       "      <th>review_date</th>\n",
       "      <th>thumbs_up</th>\n",
       "      <th>replied</th>\n",
       "      <th>reply_text</th>\n",
       "      <th>reply_date</th>\n",
       "      <th>time_to_reply(h)</th>\n",
       "      <th>app_version_head</th>\n",
       "      <th>app_version_detail</th>\n",
       "      <th>review_sentiment</th>\n",
       "      <th>review_sentiment_label</th>\n",
       "      <th>Consistent</th>\n",
       "      <th>reply_sentiment</th>\n",
       "      <th>reply_sentiment_label</th>\n",
       "      <th>topic_id_ALL</th>\n",
       "      <th>topic_label_ALL</th>\n",
       "      <th>topic_prob_ALL</th>\n",
       "      <th>topic_id_NEG</th>\n",
       "      <th>topic_label_NEG</th>\n",
       "      <th>topic_prob_NEG</th>\n",
       "      <th>topic_id_POS</th>\n",
       "      <th>topic_label_POS</th>\n",
       "      <th>topic_prob_POS</th>\n",
       "    </tr>\n",
       "  </thead>\n",
       "  <tbody>\n",
       "    <tr>\n",
       "      <th>0</th>\n",
       "      <td>1</td>\n",
       "      <td>Santander</td>\n",
       "      <td>5</td>\n",
       "      <td>very easy to use app, very happy with it</td>\n",
       "      <td>2025-09-04 14:21:00</td>\n",
       "      <td>0</td>\n",
       "      <td>1</td>\n",
       "      <td>Hi! Thanks for the 5* review, we're so glad to...</td>\n",
       "      <td>2025-09-04 14:40:12</td>\n",
       "      <td>0.32</td>\n",
       "      <td>5</td>\n",
       "      <td>24.0</td>\n",
       "      <td>0.8012</td>\n",
       "      <td>positive</td>\n",
       "      <td>1</td>\n",
       "      <td>0.8767</td>\n",
       "      <td>positive</td>\n",
       "      <td>-1</td>\n",
       "      <td>Undefined</td>\n",
       "      <td>0.000000</td>\n",
       "      <td>NaN</td>\n",
       "      <td>&lt;NA&gt;</td>\n",
       "      <td>NaN</td>\n",
       "      <td>NaN</td>\n",
       "      <td>&lt;NA&gt;</td>\n",
       "      <td>NaN</td>\n",
       "    </tr>\n",
       "    <tr>\n",
       "      <th>1</th>\n",
       "      <td>2</td>\n",
       "      <td>Santander</td>\n",
       "      <td>3</td>\n",
       "      <td>New 2024 app is slow to open. Too much whitesp...</td>\n",
       "      <td>2025-09-04 13:36:26</td>\n",
       "      <td>3</td>\n",
       "      <td>1</td>\n",
       "      <td>Hey there! All feedback is greatly appreciated...</td>\n",
       "      <td>2024-04-29 14:16:29</td>\n",
       "      <td>-11831.33</td>\n",
       "      <td>5</td>\n",
       "      <td>24.0</td>\n",
       "      <td>-0.9020</td>\n",
       "      <td>negative</td>\n",
       "      <td>1</td>\n",
       "      <td>0.8930</td>\n",
       "      <td>positive</td>\n",
       "      <td>5</td>\n",
       "      <td>Transactions, Features &amp; Usability</td>\n",
       "      <td>0.601978</td>\n",
       "      <td>NaN</td>\n",
       "      <td>&lt;NA&gt;</td>\n",
       "      <td>NaN</td>\n",
       "      <td>NaN</td>\n",
       "      <td>&lt;NA&gt;</td>\n",
       "      <td>NaN</td>\n",
       "    </tr>\n",
       "  </tbody>\n",
       "</table>\n",
       "</div>"
      ],
      "text/plain": [
       "   review_id        app  score  \\\n",
       "0          1  Santander      5   \n",
       "1          2  Santander      3   \n",
       "\n",
       "                                         review_text         review_date  \\\n",
       "0           very easy to use app, very happy with it 2025-09-04 14:21:00   \n",
       "1  New 2024 app is slow to open. Too much whitesp... 2025-09-04 13:36:26   \n",
       "\n",
       "   thumbs_up  replied                                         reply_text  \\\n",
       "0          0        1  Hi! Thanks for the 5* review, we're so glad to...   \n",
       "1          3        1  Hey there! All feedback is greatly appreciated...   \n",
       "\n",
       "           reply_date  time_to_reply(h) app_version_head app_version_detail  \\\n",
       "0 2025-09-04 14:40:12              0.32                5               24.0   \n",
       "1 2024-04-29 14:16:29         -11831.33                5               24.0   \n",
       "\n",
       "   review_sentiment review_sentiment_label  Consistent  reply_sentiment  \\\n",
       "0            0.8012               positive           1           0.8767   \n",
       "1           -0.9020               negative           1           0.8930   \n",
       "\n",
       "  reply_sentiment_label  topic_id_ALL                     topic_label_ALL  \\\n",
       "0              positive            -1                           Undefined   \n",
       "1              positive             5  Transactions, Features & Usability   \n",
       "\n",
       "   topic_prob_ALL  topic_id_NEG topic_label_NEG  topic_prob_NEG  topic_id_POS  \\\n",
       "0        0.000000           NaN            <NA>             NaN           NaN   \n",
       "1        0.601978           NaN            <NA>             NaN           NaN   \n",
       "\n",
       "  topic_label_POS  topic_prob_POS  \n",
       "0            <NA>             NaN  \n",
       "1            <NA>             NaN  "
      ]
     },
     "execution_count": 4,
     "metadata": {},
     "output_type": "execute_result"
    }
   ],
   "source": [
    "path = \"../assets/df_final.parquet\"\n",
    "df_final = pd.read_parquet(path)\n",
    "print(f\"df shape: {df_final.shape}\")\n",
    "pd.set_option(\"display.max_columns\", None)\n",
    "df_final.head(2)"
   ]
  },
  {
   "cell_type": "code",
   "execution_count": 5,
   "id": "325c93f1-c2f4-4041-971e-18e78ec8d81f",
   "metadata": {},
   "outputs": [],
   "source": [
    "api = HfApi()\n",
    "\n",
    "def push_parquet(df: pd.DataFrame, filename: str, repo_id: str, private: bool = True):\n",
    "    \"\"\"Save df as parquet and upload to HF dataset repo with a fixed name.\"\"\"\n",
    "    api.create_repo(repo_id, repo_type=\"dataset\", private=private, exist_ok=True)\n",
    "\n",
    "    with tempfile.TemporaryDirectory() as tmp:\n",
    "        local_path = os.path.join(tmp, filename)\n",
    "        df.to_parquet(local_path, index=False)\n",
    "\n",
    "        api.upload_file(\n",
    "            path_or_fileobj=local_path,\n",
    "            path_in_repo=filename,   # always same name\n",
    "            repo_id=repo_id,\n",
    "            repo_type=\"dataset\",\n",
    "            commit_message=f\"Update {filename}\",\n",
    "        )"
   ]
  },
  {
   "cell_type": "code",
   "execution_count": 6,
   "id": "3ecfa3a6-8552-4419-864d-98f761e153b4",
   "metadata": {},
   "outputs": [
    {
     "data": {
      "application/vnd.jupyter.widget-view+json": {
       "model_id": "43daa56ff3a24f0294fd816845401803",
       "version_major": 2,
       "version_minor": 0
      },
      "text/plain": [
       "df_final.parquet:   0%|          | 0.00/56.2M [00:00<?, ?B/s]"
      ]
     },
     "metadata": {},
     "output_type": "display_data"
    }
   ],
   "source": [
    "push_parquet(df_final, \"df_final.parquet\", repo_id)"
   ]
  },
  {
   "cell_type": "markdown",
   "id": "c371a32c-37ef-4d7b-af6f-44daf8c63e60",
   "metadata": {},
   "source": [
    "# 5.2. - DF average ratings view"
   ]
  },
  {
   "cell_type": "code",
   "execution_count": 7,
   "id": "f5df8bcc-2546-4118-92e0-e07c4c9b6ab3",
   "metadata": {},
   "outputs": [],
   "source": [
    "selected = df_final[['review_date','app','score']].copy()\n",
    "selected['review_date'] = pd.to_datetime(selected['review_date'])\n",
    "selected['app'] = selected['app'].astype('category')\n",
    "\n",
    "selected['period_month'] = selected['review_date'].dt.to_period('M').dt.to_timestamp('M')\n",
    "\n",
    "df_monthly = (selected\n",
    "    .groupby(['period_month','app'], observed=True)['score']\n",
    "    .agg(avg_score='mean', n_reviews='size')\n",
    "    .reset_index()\n",
    ")"
   ]
  },
  {
   "cell_type": "code",
   "execution_count": 8,
   "id": "1c92fa76-89c1-441d-87f2-4e7bf9ac5a6a",
   "metadata": {},
   "outputs": [
    {
     "data": {
      "text/html": [
       "<div>\n",
       "<style scoped>\n",
       "    .dataframe tbody tr th:only-of-type {\n",
       "        vertical-align: middle;\n",
       "    }\n",
       "\n",
       "    .dataframe tbody tr th {\n",
       "        vertical-align: top;\n",
       "    }\n",
       "\n",
       "    .dataframe thead th {\n",
       "        text-align: right;\n",
       "    }\n",
       "</style>\n",
       "<table border=\"1\" class=\"dataframe\">\n",
       "  <thead>\n",
       "    <tr style=\"text-align: right;\">\n",
       "      <th></th>\n",
       "      <th>period_month</th>\n",
       "      <th>app</th>\n",
       "      <th>avg_score</th>\n",
       "      <th>n_reviews</th>\n",
       "    </tr>\n",
       "  </thead>\n",
       "  <tbody>\n",
       "    <tr>\n",
       "      <th>0</th>\n",
       "      <td>2018-01-31</td>\n",
       "      <td>Barclays</td>\n",
       "      <td>4.367150</td>\n",
       "      <td>1449</td>\n",
       "    </tr>\n",
       "    <tr>\n",
       "      <th>1</th>\n",
       "      <td>2018-01-31</td>\n",
       "      <td>HSBC</td>\n",
       "      <td>2.320000</td>\n",
       "      <td>75</td>\n",
       "    </tr>\n",
       "    <tr>\n",
       "      <th>2</th>\n",
       "      <td>2018-01-31</td>\n",
       "      <td>LLoyds</td>\n",
       "      <td>4.499182</td>\n",
       "      <td>611</td>\n",
       "    </tr>\n",
       "    <tr>\n",
       "      <th>3</th>\n",
       "      <td>2018-01-31</td>\n",
       "      <td>Monzo</td>\n",
       "      <td>3.454545</td>\n",
       "      <td>33</td>\n",
       "    </tr>\n",
       "    <tr>\n",
       "      <th>4</th>\n",
       "      <td>2018-01-31</td>\n",
       "      <td>Revolut</td>\n",
       "      <td>4.704944</td>\n",
       "      <td>1254</td>\n",
       "    </tr>\n",
       "    <tr>\n",
       "      <th>...</th>\n",
       "      <td>...</td>\n",
       "      <td>...</td>\n",
       "      <td>...</td>\n",
       "      <td>...</td>\n",
       "    </tr>\n",
       "    <tr>\n",
       "      <th>553</th>\n",
       "      <td>2025-09-30</td>\n",
       "      <td>HSBC</td>\n",
       "      <td>2.897959</td>\n",
       "      <td>49</td>\n",
       "    </tr>\n",
       "    <tr>\n",
       "      <th>554</th>\n",
       "      <td>2025-09-30</td>\n",
       "      <td>LLoyds</td>\n",
       "      <td>4.381250</td>\n",
       "      <td>160</td>\n",
       "    </tr>\n",
       "    <tr>\n",
       "      <th>555</th>\n",
       "      <td>2025-09-30</td>\n",
       "      <td>Monzo</td>\n",
       "      <td>3.722222</td>\n",
       "      <td>18</td>\n",
       "    </tr>\n",
       "    <tr>\n",
       "      <th>556</th>\n",
       "      <td>2025-09-30</td>\n",
       "      <td>Revolut</td>\n",
       "      <td>4.110769</td>\n",
       "      <td>325</td>\n",
       "    </tr>\n",
       "    <tr>\n",
       "      <th>557</th>\n",
       "      <td>2025-09-30</td>\n",
       "      <td>Santander</td>\n",
       "      <td>4.000000</td>\n",
       "      <td>104</td>\n",
       "    </tr>\n",
       "  </tbody>\n",
       "</table>\n",
       "<p>558 rows × 4 columns</p>\n",
       "</div>"
      ],
      "text/plain": [
       "    period_month        app  avg_score  n_reviews\n",
       "0     2018-01-31   Barclays   4.367150       1449\n",
       "1     2018-01-31       HSBC   2.320000         75\n",
       "2     2018-01-31     LLoyds   4.499182        611\n",
       "3     2018-01-31      Monzo   3.454545         33\n",
       "4     2018-01-31    Revolut   4.704944       1254\n",
       "..           ...        ...        ...        ...\n",
       "553   2025-09-30       HSBC   2.897959         49\n",
       "554   2025-09-30     LLoyds   4.381250        160\n",
       "555   2025-09-30      Monzo   3.722222         18\n",
       "556   2025-09-30    Revolut   4.110769        325\n",
       "557   2025-09-30  Santander   4.000000        104\n",
       "\n",
       "[558 rows x 4 columns]"
      ]
     },
     "execution_count": 8,
     "metadata": {},
     "output_type": "execute_result"
    }
   ],
   "source": [
    "df_monthly"
   ]
  },
  {
   "cell_type": "code",
   "execution_count": 9,
   "id": "27828c67-6638-40e8-8bde-aba23e8d37dc",
   "metadata": {},
   "outputs": [
    {
     "data": {
      "text/plain": [
       "app\n",
       "Barclays     93\n",
       "HSBC         93\n",
       "LLoyds       93\n",
       "Monzo        93\n",
       "Revolut      93\n",
       "Santander    93\n",
       "Name: count, dtype: int64"
      ]
     },
     "execution_count": 9,
     "metadata": {},
     "output_type": "execute_result"
    }
   ],
   "source": [
    "df_monthly['app'].value_counts()"
   ]
  },
  {
   "cell_type": "code",
   "execution_count": 10,
   "id": "4e7ea783-2a39-479f-a6bd-54b0d58dac6c",
   "metadata": {},
   "outputs": [
    {
     "data": {
      "application/vnd.jupyter.widget-view+json": {
       "model_id": "6d6096d3d2454ef889856ea810a1e5e8",
       "version_major": 2,
       "version_minor": 0
      },
      "text/plain": [
       "df_monthly.parquet:   0%|          | 0.00/12.0k [00:00<?, ?B/s]"
      ]
     },
     "metadata": {},
     "output_type": "display_data"
    }
   ],
   "source": [
    "push_parquet(df_monthly, \"df_monthly.parquet\", repo_id)"
   ]
  }
 ],
 "metadata": {
  "kernelspec": {
   "display_name": "Python 3 (ipykernel)",
   "language": "python",
   "name": "python3"
  },
  "language_info": {
   "codemirror_mode": {
    "name": "ipython",
    "version": 3
   },
   "file_extension": ".py",
   "mimetype": "text/x-python",
   "name": "python",
   "nbconvert_exporter": "python",
   "pygments_lexer": "ipython3",
   "version": "3.13.5"
  }
 },
 "nbformat": 4,
 "nbformat_minor": 5
}
