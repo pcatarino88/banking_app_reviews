{
 "cells": [
  {
   "cell_type": "markdown",
   "id": "b95de6d9-69cb-4c74-b66f-0b7306938a90",
   "metadata": {},
   "source": [
    "# Setup"
   ]
  },
  {
   "cell_type": "markdown",
   "id": "15e5b929-1f9e-4304-934c-ffc7c3d69b83",
   "metadata": {},
   "source": [
    "📝 *Import required libraries and files:*"
   ]
  },
  {
   "cell_type": "code",
   "execution_count": 1,
   "id": "ab305234-9d72-4b80-bf6f-4bdf14d34e8f",
   "metadata": {},
   "outputs": [],
   "source": [
    "import pandas as pd\n",
    "import numpy as np\n",
    "from google_play_scraper import app, Sort, reviews_all\n",
    "import time"
   ]
  },
  {
   "cell_type": "markdown",
   "id": "ef186f44-fb24-4673-acd7-eb76b704bbbf",
   "metadata": {},
   "source": [
    "# 1.1 - Fetch Google Play data"
   ]
  },
  {
   "cell_type": "markdown",
   "id": "322471bf-7fec-4d3d-9f26-efd0a708f87a",
   "metadata": {},
   "source": [
    "To **scrape data from Google Play** Store we will use `google_play_scraper`. \n",
    "\n",
    "We will collect data from **6 different UK retail banks**: Santander UK, HSBC, LLoyds, Barclays, Revolut and Monzo. While this is not an exhaustive list of the retail banking competitive landscape in UK, it provides a good understanding of the main players and balances traditional banks with digital-born banks such as Revolut and Monzo. \n",
    "\n",
    "The focus was to obtain **individual reviews** (e.g., score, review text, date, reply, etc) for each App that will be used as input to perform sentiment analysis and categorization of motives of (dis)satisfaction with the APP;\n",
    "\n",
    "Each block of information will be collected using a for loop that fetches data for all the 6 banks."
   ]
  },
  {
   "cell_type": "code",
   "execution_count": 2,
   "id": "335b16be-38b5-494e-9124-73fc0f8f2dcc",
   "metadata": {},
   "outputs": [],
   "source": [
    "def scrape_reviews():\n",
    "    \n",
    "    # List of APPs' packages to be scraped\n",
    "    apps = {\n",
    "        \"Santander UK\": \"uk.co.santander.santanderUK\",\n",
    "        \"HSBC\": \"uk.co.hsbc.hsbcukmobilebanking\",\n",
    "        \"LLoyds\": \"com.grppl.android.shell.CMBlloydsTSB73\",\n",
    "        \"Barclays\": \"com.barclays.android.barclaysmobilebanking\",\n",
    "        \"Revolut\": \"com.revolut.revolut\",\n",
    "        \"Monzo\": \"co.uk.getmondo\"\n",
    "    }\n",
    "\n",
    "    # Loop through the apps and scrape reviews\n",
    "    all_reviews = []\n",
    "\n",
    "    for app_name, app_id in apps.items():\n",
    "        start_time = time.time()\n",
    "        try:\n",
    "            reviews = reviews_all(\n",
    "                app_id,\n",
    "                sleep_milliseconds=100,  \n",
    "                lang='en',\n",
    "                country='gb'\n",
    "            )\n",
    "            for review in reviews:\n",
    "                all_reviews.append({\n",
    "                    \"app_name\": app_name,\n",
    "                    \"user_name\": review[\"userName\"],\n",
    "                    \"score\": review[\"score\"],\n",
    "                    \"text\": review[\"content\"],\n",
    "                    \"date\": review[\"at\"],\n",
    "                    \"thumbs_up\": review[\"thumbsUpCount\"],\n",
    "                    \"Reply\":review['replyContent'],\n",
    "                    'Reply_Date':review['repliedAt'],\n",
    "                    'App_Version':review['appVersion']\n",
    "                })\n",
    "            \n",
    "            elapsed = time.time() - start_time\n",
    "            print(f\"✅ Fetched reviews for {app_name} in {elapsed:.2f} seconds\")\n",
    "            \n",
    "        except Exception as e:\n",
    "            print(f\"Error fetching reviews for {app_name}: {e}\")\n",
    "    \n",
    "        time.sleep(2)\n",
    "\n",
    "    # Save to CSV\n",
    "    df = pd.DataFrame(all_reviews)\n",
    "    filename = \"1_df_raw.csv\"\n",
    "    path = fr\"C:\\Users\\pedro\\OneDrive\\Escritorio\\Projetos\\Banking APPs Reviews\\{filename}\"\n",
    "    df.to_csv(path, index=False)\n",
    "    print(f\"✅ Done! Reviews saved to {filename}\")\n",
    "\n",
    "    return df"
   ]
  },
  {
   "cell_type": "code",
   "execution_count": 3,
   "id": "a68c9f64-d97d-4a03-84f4-782ba3ee6f33",
   "metadata": {},
   "outputs": [
    {
     "name": "stdout",
     "output_type": "stream",
     "text": [
      "✅ Fetched reviews for Santander UK in 48.62 seconds\n",
      "✅ Fetched reviews for HSBC in 23.43 seconds\n",
      "✅ Fetched reviews for LLoyds in 90.55 seconds\n",
      "✅ Fetched reviews for Barclays in 170.30 seconds\n",
      "✅ Fetched reviews for Revolut in 166.63 seconds\n",
      "✅ Fetched reviews for Monzo in 12.07 seconds\n",
      "✅ Done! Reviews saved to 1_df_raw.csv\n"
     ]
    }
   ],
   "source": [
    "df_raw = scrape_reviews()"
   ]
  },
  {
   "cell_type": "markdown",
   "id": "45ab82d0-c46f-4f41-9438-f7aacccecb53",
   "metadata": {},
   "source": [
    "# 1.2. - Data Understanding"
   ]
  },
  {
   "cell_type": "code",
   "execution_count": 4,
   "id": "caa485a9-dd70-45b3-b3c8-5c36755f8b1b",
   "metadata": {},
   "outputs": [
    {
     "name": "stdout",
     "output_type": "stream",
     "text": [
      "df shape: (813103, 9)\n",
      "<class 'pandas.core.frame.DataFrame'>\n",
      "RangeIndex: 813103 entries, 0 to 813102\n",
      "Data columns (total 9 columns):\n",
      " #   Column       Non-Null Count   Dtype         \n",
      "---  ------       --------------   -----         \n",
      " 0   app_name     813103 non-null  object        \n",
      " 1   user_name    813103 non-null  object        \n",
      " 2   score        813103 non-null  int64         \n",
      " 3   text         812978 non-null  object        \n",
      " 4   date         813103 non-null  datetime64[ns]\n",
      " 5   thumbs_up    813103 non-null  int64         \n",
      " 6   Reply        111182 non-null  object        \n",
      " 7   Reply_Date   111182 non-null  datetime64[ns]\n",
      " 8   App_Version  747482 non-null  object        \n",
      "dtypes: datetime64[ns](2), int64(2), object(5)\n",
      "memory usage: 55.8+ MB\n"
     ]
    }
   ],
   "source": [
    "print(f\"df shape: {df_raw.shape}\")\n",
    "df_raw.info()"
   ]
  },
  {
   "cell_type": "code",
   "execution_count": 5,
   "id": "fd375708-e5b9-4660-af3f-52a6c9fe58dd",
   "metadata": {},
   "outputs": [
    {
     "data": {
      "text/plain": [
       "app_name\n",
       "Barclays        264091\n",
       "Revolut         260691\n",
       "LLoyds          147695\n",
       "Santander UK     79934\n",
       "HSBC             38644\n",
       "Monzo            22048\n",
       "Name: count, dtype: int64"
      ]
     },
     "execution_count": 5,
     "metadata": {},
     "output_type": "execute_result"
    }
   ],
   "source": [
    "df_raw['app_name'].value_counts()"
   ]
  },
  {
   "cell_type": "markdown",
   "id": "743ef209-8942-40e7-b974-503d427249b7",
   "metadata": {},
   "source": [
    "Data was successfully collected and saved into `banking_app_reviews.csv` file with a **total of 813k reviews**, with individual values ranging from 22k reviews for Monzo up to 264k for Barclays. \n",
    "\n",
    "It is worth noticing that, despite the usage of `review_all` method, the **number of fetched reviews is below the total number of reviews reported in Google Play Store for each of these APPs**. This situation can be explained by several factors, from which we highlight three of them: \n",
    "\n",
    "1. **`reviews_all` only fetches “publicly accessible” reviews** - i.e., while the Play Store reports the total number of reviews, not all of them are retrievable via scraper since some of them are hidden, limited by location or language or removed over time;\n",
    "\n",
    "2. **Country and language filters** - i.e., we're only feching data in english from UK based users, but there are reviews in other languages and from users based in other coutries (especially for universal APPs such as 'Revolut');\n",
    "\n",
    "3. **Scraping limitations**: Google Play's paginated interface does not expose the total number of reviews in one go, and even though `review_all` is designed to loop until it gets all reviews, it usually achieves a certain limit. Apart from that, Google may intentionally limit the amount of content exposed to unofficial scraping tools as the one we used. \n",
    "\n",
    "Despite this, **the data we have collected is more than enough to extract meaningfull insights and derive conclusions**, since the primary objective of this project is not to extract the total number of reviews per se, but instead to generalize sentiment and key topics for each app."
   ]
  }
 ],
 "metadata": {
  "kernelspec": {
   "display_name": "Python 3 (ipykernel)",
   "language": "python",
   "name": "python3"
  },
  "language_info": {
   "codemirror_mode": {
    "name": "ipython",
    "version": 3
   },
   "file_extension": ".py",
   "mimetype": "text/x-python",
   "name": "python",
   "nbconvert_exporter": "python",
   "pygments_lexer": "ipython3",
   "version": "3.13.5"
  }
 },
 "nbformat": 4,
 "nbformat_minor": 5
}
